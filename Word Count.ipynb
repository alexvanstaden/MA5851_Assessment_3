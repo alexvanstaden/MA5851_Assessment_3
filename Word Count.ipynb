{
 "cells": [
  {
   "cell_type": "code",
   "execution_count": 12,
   "metadata": {},
   "outputs": [
    {
     "name": "stdout",
     "output_type": "stream",
     "text": [
      "\n",
      "Filename:  Assessment 3 - Document 1 - Overview.ipynb\n",
      "775 Words in notebooks' markdown\n",
      "10 Words in notebooks' heading\n",
      "0 Words in notebooks' code\n",
      "\n",
      "Filename:  Assessment 3 - Document 2 - Webcrawler.ipynb\n",
      "781 Words in notebooks' markdown\n",
      "10 Words in notebooks' heading\n",
      "1697 Words in notebooks' code\n",
      "\n",
      "Filename:  Assessment 3 - Document 3 - NLP Tasks.ipynb\n",
      "61 Words in notebooks' markdown\n",
      "26 Words in notebooks' heading\n",
      "871 Words in notebooks' code\n",
      "\n",
      "Filename:  Word Count.ipynb\n",
      "0 Words in notebooks' markdown\n",
      "0 Words in notebooks' heading\n",
      "413 Words in notebooks' code\n"
     ]
    }
   ],
   "source": [
    "import io\n",
    "import os\n",
    "from nbformat import current\n",
    "\n",
    "\n",
    "\n",
    "for root, dirs, files in os.walk(\".\"):\n",
    "    for file in files:\n",
    "        total_markdown = 0\n",
    "        total_heading = 0\n",
    "        total_code = 0\n",
    "        \n",
    "        if file.endswith(\".ipynb\") and not file.endswith(\"checkpoint.ipynb\") :\n",
    "            #print(os.path.join(root, file))\n",
    "            with io.open(os.path.join(root, file), 'r', encoding='utf-8') as f:\n",
    "                nb = current.read(f, 'json')\n",
    "\n",
    "            word_count_markdown = 0\n",
    "            word_count_heading = 0\n",
    "            word_count_code = 0\n",
    "            for cell in nb.worksheets[0].cells:\n",
    "                if cell.cell_type == \"markdown\":\n",
    "                    word_count_markdown += len(cell['source'].replace('#', '').lstrip().split(' '))\n",
    "                elif cell.cell_type == \"heading\":\n",
    "                    word_count_heading += len(cell['source'].replace('#', '').lstrip().split(' '))\n",
    "                elif cell.cell_type == \"code\":\n",
    "                    word_count_code += len(cell['input'].replace('#', '').lstrip().split(' '))\n",
    "            total_markdown += word_count_markdown\n",
    "            total_heading += word_count_heading\n",
    "            total_code += word_count_code\n",
    "\n",
    "            print(\"\\nFilename: \", file)\n",
    "            print(\"{} Words in notebooks' markdown\" .format(total_markdown))\n",
    "            print(\"{} Words in notebooks' heading\" .format(total_heading))\n",
    "            print(\"{} Words in notebooks' code\" .format(total_code))"
   ]
  },
  {
   "cell_type": "code",
   "execution_count": null,
   "metadata": {},
   "outputs": [],
   "source": []
  }
 ],
 "metadata": {
  "kernelspec": {
   "display_name": "Python 3",
   "language": "python",
   "name": "python3"
  },
  "language_info": {
   "codemirror_mode": {
    "name": "ipython",
    "version": 3
   },
   "file_extension": ".py",
   "mimetype": "text/x-python",
   "name": "python",
   "nbconvert_exporter": "python",
   "pygments_lexer": "ipython3",
   "version": "3.7.4"
  }
 },
 "nbformat": 4,
 "nbformat_minor": 2
}
