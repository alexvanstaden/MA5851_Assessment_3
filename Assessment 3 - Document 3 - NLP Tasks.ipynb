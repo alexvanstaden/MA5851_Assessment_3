{
 "cells": [
  {
   "cell_type": "markdown",
   "metadata": {},
   "source": [
    "# Automated text classifier and named entity extractor\n",
    "**Renier Alexander van Staden**"
   ]
  },
  {
   "cell_type": "markdown",
   "metadata": {},
   "source": [
    "## External Libraries "
   ]
  },
  {
   "cell_type": "code",
   "execution_count": 113,
   "metadata": {},
   "outputs": [
    {
     "name": "stdout",
     "output_type": "stream",
     "text": [
      "The pandas version is 0.25.1.\n",
      "The nltk version is 3.4.5.\n",
      "The scikit-learn version is 0.21.3.\n"
     ]
    }
   ],
   "source": [
    "# Pandas\n",
    "import pandas as pd\n",
    "\n",
    "# Sklearn\n",
    "import sklearn\n",
    "from sklearn import preprocessing\n",
    "from sklearn.feature_extraction.text import TfidfVectorizer\n",
    "from sklearn.feature_extraction.text import CountVectorizer\n",
    "from sklearn.model_selection import train_test_split\n",
    "from scipy.spatial.distance import cosine\n",
    "from sklearn.ensemble import RandomForestClassifier\n",
    "from sklearn.naive_bayes import GaussianNB\n",
    "from sklearn.model_selection import cross_val_score\n",
    "from sklearn.metrics import confusion_matrix, accuracy_score\n",
    "\n",
    "# NLTK\n",
    "import nltk\n",
    "from nltk.stem.porter import PorterStemmer\n",
    "from nltk import WordNetLemmatizer\n",
    "from nltk.corpus import stopwords\n",
    "#nltk.download()\n",
    "\n",
    "import numpy as np\n",
    "\n",
    "import matplotlib.pyplot as plt\n",
    "%matplotlib inline\n",
    "\n",
    "import fuzzywuzzy\n",
    "from fuzzywuzzy import fuzz\n",
    "\n",
    "\n",
    "print('The pandas version is {}.'.format(pd.__version__))\n",
    "print('The nltk version is {}.'.format(nltk.__version__))\n",
    "print('The scikit-learn version is {}.'.format(sklearn.__version__))"
   ]
  },
  {
   "cell_type": "markdown",
   "metadata": {},
   "source": [
    "## Preprocessing and Data Wrangling"
   ]
  },
  {
   "cell_type": "markdown",
   "metadata": {},
   "source": [
    "### Article Data"
   ]
  },
  {
   "cell_type": "code",
   "execution_count": 4,
   "metadata": {},
   "outputs": [
    {
     "data": {
      "text/html": [
       "<div>\n",
       "<style scoped>\n",
       "    .dataframe tbody tr th:only-of-type {\n",
       "        vertical-align: middle;\n",
       "    }\n",
       "\n",
       "    .dataframe tbody tr th {\n",
       "        vertical-align: top;\n",
       "    }\n",
       "\n",
       "    .dataframe thead th {\n",
       "        text-align: right;\n",
       "    }\n",
       "</style>\n",
       "<table border=\"1\" class=\"dataframe\">\n",
       "  <thead>\n",
       "    <tr style=\"text-align: right;\">\n",
       "      <th></th>\n",
       "      <th>uri</th>\n",
       "      <th>article_category</th>\n",
       "      <th>article_text</th>\n",
       "      <th>description</th>\n",
       "    </tr>\n",
       "  </thead>\n",
       "  <tbody>\n",
       "    <tr>\n",
       "      <td>0</td>\n",
       "      <td>/news/2021-11-24/afl-carlton-ceo-brian-cook-te...</td>\n",
       "      <td>sport</td>\n",
       "      <td>Carlton chief executive Brian Cook has tested...</td>\n",
       "      <td>Carlton AFL boss returns positive COVID test</td>\n",
       "    </tr>\n",
       "    <tr>\n",
       "      <td>1</td>\n",
       "      <td>/news/2021-11-24/afl-national-draft-kangaroos-...</td>\n",
       "      <td>sport</td>\n",
       "      <td>Outstanding South Australian prospect Jason H...</td>\n",
       "      <td>Kangaroos take Horne-Francis with number one s...</td>\n",
       "    </tr>\n",
       "    <tr>\n",
       "      <td>2</td>\n",
       "      <td>/news/2021-11-24/shaun-murphy-amateurs-not-pla...</td>\n",
       "      <td>sport</td>\n",
       "      <td>Professional snooker player Shaun Murphy says...</td>\n",
       "      <td>Former champion says amateur snooker players s...</td>\n",
       "    </tr>\n",
       "    <tr>\n",
       "      <td>3</td>\n",
       "      <td>/news/2021-11-24/teen-star-sophie-dwyer-headli...</td>\n",
       "      <td>sport</td>\n",
       "      <td>Giants goal-attack Sophie Dwyer has been elev...</td>\n",
       "      <td>Rising star Sophie Dwyer earns call-up to Aust...</td>\n",
       "    </tr>\n",
       "    <tr>\n",
       "      <td>4</td>\n",
       "      <td>/news/2021-11-24/wbbl-brisbane-heat-vs-adelaid...</td>\n",
       "      <td>sport</td>\n",
       "      <td>Adelaide Strikers spinner Amanda-Jade Welling...</td>\n",
       "      <td>Adelaide Strikers stay alive in WBBL finals wi...</td>\n",
       "    </tr>\n",
       "  </tbody>\n",
       "</table>\n",
       "</div>"
      ],
      "text/plain": [
       "                                                 uri article_category  \\\n",
       "0  /news/2021-11-24/afl-carlton-ceo-brian-cook-te...            sport   \n",
       "1  /news/2021-11-24/afl-national-draft-kangaroos-...            sport   \n",
       "2  /news/2021-11-24/shaun-murphy-amateurs-not-pla...            sport   \n",
       "3  /news/2021-11-24/teen-star-sophie-dwyer-headli...            sport   \n",
       "4  /news/2021-11-24/wbbl-brisbane-heat-vs-adelaid...            sport   \n",
       "\n",
       "                                        article_text  \\\n",
       "0   Carlton chief executive Brian Cook has tested...   \n",
       "1   Outstanding South Australian prospect Jason H...   \n",
       "2   Professional snooker player Shaun Murphy says...   \n",
       "3   Giants goal-attack Sophie Dwyer has been elev...   \n",
       "4   Adelaide Strikers spinner Amanda-Jade Welling...   \n",
       "\n",
       "                                         description  \n",
       "0       Carlton AFL boss returns positive COVID test  \n",
       "1  Kangaroos take Horne-Francis with number one s...  \n",
       "2  Former champion says amateur snooker players s...  \n",
       "3  Rising star Sophie Dwyer earns call-up to Aust...  \n",
       "4  Adelaide Strikers stay alive in WBBL finals wi...  "
      ]
     },
     "execution_count": 4,
     "metadata": {},
     "output_type": "execute_result"
    }
   ],
   "source": [
    "# Load cleaned csv file\n",
    "articles_df = pd.read_csv(\"abc_articles_df.csv\", sep='|', encoding='utf-16')\n",
    "articles_df.head()"
   ]
  },
  {
   "cell_type": "markdown",
   "metadata": {},
   "source": [
    "The following preprocessing tasks are performed:\n",
    "- Drop all rows with any NA's\n",
    "- Combine article text and description fields to create 'corpus document'. A copy of this is also created for further processing as a 'bag of words'.\n",
    "- Drop any unnecessary columns.\n",
    "- Show statistics"
   ]
  },
  {
   "cell_type": "code",
   "execution_count": 5,
   "metadata": {},
   "outputs": [
    {
     "data": {
      "text/html": [
       "<div>\n",
       "<style scoped>\n",
       "    .dataframe tbody tr th:only-of-type {\n",
       "        vertical-align: middle;\n",
       "    }\n",
       "\n",
       "    .dataframe tbody tr th {\n",
       "        vertical-align: top;\n",
       "    }\n",
       "\n",
       "    .dataframe thead th {\n",
       "        text-align: right;\n",
       "    }\n",
       "</style>\n",
       "<table border=\"1\" class=\"dataframe\">\n",
       "  <thead>\n",
       "    <tr style=\"text-align: right;\">\n",
       "      <th></th>\n",
       "      <th>uri</th>\n",
       "      <th>article_text_description</th>\n",
       "      <th>bag_of_words</th>\n",
       "    </tr>\n",
       "    <tr>\n",
       "      <th>article_category</th>\n",
       "      <th></th>\n",
       "      <th></th>\n",
       "      <th></th>\n",
       "    </tr>\n",
       "  </thead>\n",
       "  <tbody>\n",
       "    <tr>\n",
       "      <td>business</td>\n",
       "      <td>112</td>\n",
       "      <td>112</td>\n",
       "      <td>112</td>\n",
       "    </tr>\n",
       "    <tr>\n",
       "      <td>sport</td>\n",
       "      <td>124</td>\n",
       "      <td>124</td>\n",
       "      <td>124</td>\n",
       "    </tr>\n",
       "  </tbody>\n",
       "</table>\n",
       "</div>"
      ],
      "text/plain": [
       "                  uri  article_text_description  bag_of_words\n",
       "article_category                                             \n",
       "business          112                       112           112\n",
       "sport             124                       124           124"
      ]
     },
     "execution_count": 5,
     "metadata": {},
     "output_type": "execute_result"
    }
   ],
   "source": [
    "# Combine columns and drop uncessary columns\n",
    "\n",
    "# Drop NA's\n",
    "articles_df.dropna(inplace=True) \n",
    "\n",
    "# Combine text and description into 1 column\n",
    "articles_df['article_text_description'] = articles_df['article_text'].fillna('') + articles_df['description'].fillna('')\n",
    "\n",
    "# Drop unnecesarry columns\n",
    "articles_df.drop(columns=['description','article_text'], inplace=True) \n",
    "\n",
    "# Bag of words for further processing later\n",
    "articles_df['bag_of_words'] = articles_df['article_text_description'] \n",
    "\n",
    "\n",
    "# Show counts and description\n",
    "articles_df.groupby(['article_category']).count()\n"
   ]
  },
  {
   "cell_type": "markdown",
   "metadata": {},
   "source": [
    "Dropping of NA's has reduced the corpus size from 243 articles down to 228. Article Categories are still in balance.\n",
    "\n",
    "\n",
    "The helper function below assists with cleaning up Unicode issues that have arisen as part of data wrangling."
   ]
  },
  {
   "cell_type": "code",
   "execution_count": 6,
   "metadata": {},
   "outputs": [],
   "source": [
    "# Fix unicode issues\n",
    "def fix_unicode_issues(df):  \n",
    "    df['article_text_description'] = df['article_text_description'].replace(u'â€”', u' ')\n",
    "    df['article_text_description'] = df['article_text_description'].replace(u'â€“', u' ')  \n",
    "    \n",
    "    return df\n",
    "\n",
    "articles_df = articles_df.apply(fix_unicode_issues, axis=1)"
   ]
  },
  {
   "cell_type": "markdown",
   "metadata": {},
   "source": [
    "### ASX Data"
   ]
  },
  {
   "cell_type": "code",
   "execution_count": 95,
   "metadata": {},
   "outputs": [
    {
     "data": {
      "text/html": [
       "<div>\n",
       "<style scoped>\n",
       "    .dataframe tbody tr th:only-of-type {\n",
       "        vertical-align: middle;\n",
       "    }\n",
       "\n",
       "    .dataframe tbody tr th {\n",
       "        vertical-align: top;\n",
       "    }\n",
       "\n",
       "    .dataframe thead th {\n",
       "        text-align: right;\n",
       "    }\n",
       "</style>\n",
       "<table border=\"1\" class=\"dataframe\">\n",
       "  <thead>\n",
       "    <tr style=\"text-align: right;\">\n",
       "      <th></th>\n",
       "      <th>ASX code</th>\n",
       "      <th>Company name</th>\n",
       "      <th>Listing date</th>\n",
       "      <th>GICs industry group</th>\n",
       "      <th>Market Cap</th>\n",
       "    </tr>\n",
       "  </thead>\n",
       "  <tbody>\n",
       "    <tr>\n",
       "      <td>0</td>\n",
       "      <td>14D</td>\n",
       "      <td>1414 DEGREES LIMITED</td>\n",
       "      <td>2018-09-12</td>\n",
       "      <td>Capital Goods</td>\n",
       "      <td>23064453.0</td>\n",
       "    </tr>\n",
       "    <tr>\n",
       "      <td>1</td>\n",
       "      <td>1AD</td>\n",
       "      <td>ADALTA LIMITED</td>\n",
       "      <td>2016-08-22</td>\n",
       "      <td>Pharmaceuticals, Biotechnology &amp; Life Sciences</td>\n",
       "      <td>19651595.0</td>\n",
       "    </tr>\n",
       "    <tr>\n",
       "      <td>2</td>\n",
       "      <td>1AG</td>\n",
       "      <td>ALTERRA LIMITED</td>\n",
       "      <td>2008-05-16</td>\n",
       "      <td>Food, Beverage &amp; Tobacco</td>\n",
       "      <td>8333288.0</td>\n",
       "    </tr>\n",
       "    <tr>\n",
       "      <td>3</td>\n",
       "      <td>1ST</td>\n",
       "      <td>1ST GROUP LIMITED</td>\n",
       "      <td>2015-06-09</td>\n",
       "      <td>Health Care Equipment &amp; Services</td>\n",
       "      <td>6549087.0</td>\n",
       "    </tr>\n",
       "    <tr>\n",
       "      <td>4</td>\n",
       "      <td>1VG</td>\n",
       "      <td>VICTORY GOLDFIELDS LIMITED</td>\n",
       "      <td>2021-07-22</td>\n",
       "      <td>Materials</td>\n",
       "      <td>9406886.0</td>\n",
       "    </tr>\n",
       "  </tbody>\n",
       "</table>\n",
       "</div>"
      ],
      "text/plain": [
       "  ASX code                Company name Listing date  \\\n",
       "0      14D        1414 DEGREES LIMITED   2018-09-12   \n",
       "1      1AD              ADALTA LIMITED   2016-08-22   \n",
       "2      1AG             ALTERRA LIMITED   2008-05-16   \n",
       "3      1ST           1ST GROUP LIMITED   2015-06-09   \n",
       "4      1VG  VICTORY GOLDFIELDS LIMITED   2021-07-22   \n",
       "\n",
       "                              GICs industry group  Market Cap  \n",
       "0                                   Capital Goods  23064453.0  \n",
       "1  Pharmaceuticals, Biotechnology & Life Sciences  19651595.0  \n",
       "2                        Food, Beverage & Tobacco   8333288.0  \n",
       "3                Health Care Equipment & Services   6549087.0  \n",
       "4                                       Materials   9406886.0  "
      ]
     },
     "execution_count": 95,
     "metadata": {},
     "output_type": "execute_result"
    }
   ],
   "source": [
    "# Import ASX data\n",
    "asx_df = pd.read_csv('ASX_Listed_Companies_04-12-2021_05-22-49_AEDT.csv')\n",
    "\n",
    "asx_df.head()"
   ]
  },
  {
   "cell_type": "markdown",
   "metadata": {},
   "source": [
    "## NLP Task 1 - Article Classification"
   ]
  },
  {
   "cell_type": "markdown",
   "metadata": {},
   "source": [
    "NLP Task 1 will be a classification machine learning task to classify articles between sport and business classes. This task consists of the following steps:\n",
    "\n",
    "**Step 1: Embedding - create a 'bag of words' and process words**\n",
    "\n",
    "'Bag of words' (Harris, 1954) is a representation of of a body of text that only considers the words in the text, not the sentence structure, grammar or relationships between them. According to [Wikipedia](https://en.wikipedia.org/wiki/Bag-of-words_model) it is often used in text classification.\n",
    "\n",
    "Word processing will include:\n",
    "- Each documents punctuation and numerical is removed and all words are converted to lower case.\n",
    "- All stopwords are removed.\n",
    "- All words are lemmatized.\n",
    "- All words are stemmed.\n",
    "\n",
    "**Step 2: Feature Extraction - Encoding and TF-IDF**\n",
    "\n",
    "According to Ullman & Rajaraman (Ullman & Rajaraman, 2012) TF-IDF is \"The formal measure of how concentrated into relatively few documents are the occurrences of a given word is called TF.IDF (Term Frequency times Inverse Document Frequency).\"\n",
    "\n",
    "**Step 3: Model selection, evaluation and measurement**\n",
    "\n",
    "The selected model for the classification task is Random Forest. It is selected because:\n",
    "- Random Forest Model's are less prone to overfitting\n",
    "- Tree based models are better for explainability and interpretability.\n",
    "- Random Forest is selected over other tree models because it ensures decorrelation between variables. This is important as some words in the 'bag of words' may be correlated across different classes.\n",
    "\n"
   ]
  },
  {
   "cell_type": "code",
   "execution_count": 14,
   "metadata": {},
   "outputs": [
    {
     "name": "stdout",
     "output_type": "stream",
     "text": [
      "Removing Punctuation and Numbers...\n",
      "Removing Stopwords...\n",
      "Applying Lemmatizing...\n",
      "Applying Stemming...\n"
     ]
    },
    {
     "data": {
      "text/html": [
       "<div>\n",
       "<style scoped>\n",
       "    .dataframe tbody tr th:only-of-type {\n",
       "        vertical-align: middle;\n",
       "    }\n",
       "\n",
       "    .dataframe tbody tr th {\n",
       "        vertical-align: top;\n",
       "    }\n",
       "\n",
       "    .dataframe thead th {\n",
       "        text-align: right;\n",
       "    }\n",
       "</style>\n",
       "<table border=\"1\" class=\"dataframe\">\n",
       "  <thead>\n",
       "    <tr style=\"text-align: right;\">\n",
       "      <th></th>\n",
       "      <th>uri</th>\n",
       "      <th>article_category</th>\n",
       "      <th>article_text_description</th>\n",
       "      <th>bag_of_words</th>\n",
       "    </tr>\n",
       "  </thead>\n",
       "  <tbody>\n",
       "    <tr>\n",
       "      <td>0</td>\n",
       "      <td>/news/2021-11-24/afl-carlton-ceo-brian-cook-te...</td>\n",
       "      <td>sport</td>\n",
       "      <td>Carlton chief executive Brian Cook has tested...</td>\n",
       "      <td>carlton chief execut brian cook test posit for...</td>\n",
       "    </tr>\n",
       "    <tr>\n",
       "      <td>1</td>\n",
       "      <td>/news/2021-11-24/afl-national-draft-kangaroos-...</td>\n",
       "      <td>sport</td>\n",
       "      <td>Outstanding South Australian prospect Jason H...</td>\n",
       "      <td>outstand south australian prospect jason selec...</td>\n",
       "    </tr>\n",
       "    <tr>\n",
       "      <td>2</td>\n",
       "      <td>/news/2021-11-24/shaun-murphy-amateurs-not-pla...</td>\n",
       "      <td>sport</td>\n",
       "      <td>Professional snooker player Shaun Murphy says...</td>\n",
       "      <td>profession snooker player shaun murphi say ama...</td>\n",
       "    </tr>\n",
       "    <tr>\n",
       "      <td>3</td>\n",
       "      <td>/news/2021-11-24/teen-star-sophie-dwyer-headli...</td>\n",
       "      <td>sport</td>\n",
       "      <td>Giants goal-attack Sophie Dwyer has been elev...</td>\n",
       "      <td>giant sophi dwyer elev diamond tour invite sen...</td>\n",
       "    </tr>\n",
       "    <tr>\n",
       "      <td>4</td>\n",
       "      <td>/news/2021-11-24/wbbl-brisbane-heat-vs-adelaid...</td>\n",
       "      <td>sport</td>\n",
       "      <td>Adelaide Strikers spinner Amanda-Jade Welling...</td>\n",
       "      <td>adelaid striker spinner wellington produc best...</td>\n",
       "    </tr>\n",
       "    <tr>\n",
       "      <td>5</td>\n",
       "      <td>/news/2021-11-25/23-under-23-a-league-women-pl...</td>\n",
       "      <td>sport</td>\n",
       "      <td>Australia's top professional women's competit...</td>\n",
       "      <td>top profession competit long greenhous produc ...</td>\n",
       "    </tr>\n",
       "    <tr>\n",
       "      <td>6</td>\n",
       "      <td>/news/2021-11-25/a-league-women-lisa-de-vanna-...</td>\n",
       "      <td>sport</td>\n",
       "      <td>Matildas great Lisa De Vanna will chase anoth...</td>\n",
       "      <td>matilda great lisa de vanna chase anoth titl s...</td>\n",
       "    </tr>\n",
       "    <tr>\n",
       "      <td>7</td>\n",
       "      <td>/news/2021-11-25/afl-draft-live-blog-second-ro...</td>\n",
       "      <td>sport</td>\n",
       "      <td>Fremantle wasted no time claiming Matt Johnso...</td>\n",
       "      <td>fremantl wast time claim matt johnson kick sec...</td>\n",
       "    </tr>\n",
       "    <tr>\n",
       "      <td>8</td>\n",
       "      <td>/news/2021-11-25/australians-josh-giddey-patty...</td>\n",
       "      <td>sport</td>\n",
       "      <td>Young Australian Josh Giddey has again flirte...</td>\n",
       "      <td>young australian josh giddey flirt creat nba b...</td>\n",
       "    </tr>\n",
       "    <tr>\n",
       "      <td>9</td>\n",
       "      <td>/news/2021-11-25/candice-warner-weighs-in-on-t...</td>\n",
       "      <td>sport</td>\n",
       "      <td>Candice Warner says she is \"concerned\" about ...</td>\n",
       "      <td>candic warner say cricket stanc allow tim pain...</td>\n",
       "    </tr>\n",
       "  </tbody>\n",
       "</table>\n",
       "</div>"
      ],
      "text/plain": [
       "                                                 uri article_category  \\\n",
       "0  /news/2021-11-24/afl-carlton-ceo-brian-cook-te...            sport   \n",
       "1  /news/2021-11-24/afl-national-draft-kangaroos-...            sport   \n",
       "2  /news/2021-11-24/shaun-murphy-amateurs-not-pla...            sport   \n",
       "3  /news/2021-11-24/teen-star-sophie-dwyer-headli...            sport   \n",
       "4  /news/2021-11-24/wbbl-brisbane-heat-vs-adelaid...            sport   \n",
       "5  /news/2021-11-25/23-under-23-a-league-women-pl...            sport   \n",
       "6  /news/2021-11-25/a-league-women-lisa-de-vanna-...            sport   \n",
       "7  /news/2021-11-25/afl-draft-live-blog-second-ro...            sport   \n",
       "8  /news/2021-11-25/australians-josh-giddey-patty...            sport   \n",
       "9  /news/2021-11-25/candice-warner-weighs-in-on-t...            sport   \n",
       "\n",
       "                            article_text_description  \\\n",
       "0   Carlton chief executive Brian Cook has tested...   \n",
       "1   Outstanding South Australian prospect Jason H...   \n",
       "2   Professional snooker player Shaun Murphy says...   \n",
       "3   Giants goal-attack Sophie Dwyer has been elev...   \n",
       "4   Adelaide Strikers spinner Amanda-Jade Welling...   \n",
       "5   Australia's top professional women's competit...   \n",
       "6   Matildas great Lisa De Vanna will chase anoth...   \n",
       "7   Fremantle wasted no time claiming Matt Johnso...   \n",
       "8   Young Australian Josh Giddey has again flirte...   \n",
       "9   Candice Warner says she is \"concerned\" about ...   \n",
       "\n",
       "                                        bag_of_words  \n",
       "0  carlton chief execut brian cook test posit for...  \n",
       "1  outstand south australian prospect jason selec...  \n",
       "2  profession snooker player shaun murphi say ama...  \n",
       "3  giant sophi dwyer elev diamond tour invite sen...  \n",
       "4  adelaid striker spinner wellington produc best...  \n",
       "5  top profession competit long greenhous produc ...  \n",
       "6  matilda great lisa de vanna chase anoth titl s...  \n",
       "7  fremantl wast time claim matt johnson kick sec...  \n",
       "8  young australian josh giddey flirt creat nba b...  \n",
       "9  candic warner say cricket stanc allow tim pain...  "
      ]
     },
     "execution_count": 14,
     "metadata": {},
     "output_type": "execute_result"
    }
   ],
   "source": [
    "# Stemming, Lemmatizing and Cleaning Bag of Words\n",
    "\n",
    "def nltk_remove_punc_numeric(df_column):\n",
    "    # Function to remove punctuation and numeric values from bag of words column\n",
    "    df_column = df_column.split(' ')\n",
    "    output=[word.lower() for word in df_column if word.isalpha()]\n",
    "    return ' '.join(output)  \n",
    "    \n",
    "def nltk_stemming(df_column):\n",
    "    # Function to stem words in bag of words column\n",
    "    df_column = df_column.split(' ')\n",
    "    stemmer = PorterStemmer() \n",
    "    output = [stemmer.stem(word) for word in df_column]\n",
    "    return ' '.join(output) \n",
    "\n",
    "def nltk_lemmatize(df_column):\n",
    "    # Function to lemmatize words in bag of words column\n",
    "    df_column = df_column.split(' ')\n",
    "    lemmatizer = WordNetLemmatizer()\n",
    "    output = [lemmatizer.lemmatize(word) for word in df_column]\n",
    "    return ' '.join(output) \n",
    "            \n",
    "def nltk_remove_stopwords(df_column):\n",
    "    # Function to remove stopwords from bag of words column\n",
    "    df_column = df_column.split(' ')\n",
    "    stopWords = set(stopwords.words('english'))\n",
    "    output=[word.lower() for word in df_column if not word in stopWords]\n",
    "    return ' '.join(output)  \n",
    "\n",
    "def run_all_nltk_cleaning(df):    \n",
    "    # Function to run all NLTK cleaning\n",
    "    df_prepped = df\n",
    "    print('Removing Punctuation and Numbers...')\n",
    "    df_prepped['bag_of_words'] = df['bag_of_words'].apply(nltk_remove_punc_numeric)\n",
    "    print('Removing Stopwords...')\n",
    "    df_prepped['bag_of_words'] = df['bag_of_words'].apply(nltk_remove_stopwords)\n",
    "    print('Applying Lemmatizing...')\n",
    "    df_prepped['bag_of_words'] = df['bag_of_words'].apply(nltk_lemmatize)\n",
    "    print('Applying Stemming...')\n",
    "    df_prepped['bag_of_words'] = df['bag_of_words'].apply(nltk_stemming)\n",
    "    \n",
    "    return df_prepped\n",
    "\n",
    "articles_df  = run_all_nltk_cleaning(articles_df)\n",
    "articles_df.head(10)"
   ]
  },
  {
   "cell_type": "code",
   "execution_count": 17,
   "metadata": {},
   "outputs": [
    {
     "name": "stdout",
     "output_type": "stream",
     "text": [
      "['carlton chief execut brian cook test posit forc key staff member miss afl nation draft fulli vaccin cook isol home next day per victorian govern posit test mean recruit team includ head coach michael voss footbal manag brad lloyd attend first night identifi close blue releas statement say afl player instruct get test home receiv neg main concern health safeti sincer appreci get test afternoon short cook said feel evid import peopl aflw program impact clear continu preseason join club follow success career chief execut essendon counterpart xavier campbel test posit last weekcarlton afl bo return posit covid test']\n"
     ]
    }
   ],
   "source": [
    "# Show example Bag of Words\n",
    "print(articles_df['bag_of_words'].head(1).values)"
   ]
  },
  {
   "cell_type": "markdown",
   "metadata": {},
   "source": [
    "Below is an example of the result of the word processing above:\n",
    "\n",
    ">*carlton chief execut brian cook test posit forc key staff member miss afl nation draft fulli vaccin cook isol home next day per victorian govern posit test mean recruit team includ head coach michael voss footbal manag brad lloyd attend first night identifi close blue releas statement say afl player instruct get test home receiv neg main concern health safeti sincer appreci get test afternoon short cook said feel evid import peopl aflw program impact clear continu preseason join club follow success career chief execut essendon counterpart xavier campbel test posit last weekcarlton afl bo return posit covid test*\n",
    "\n",
    "All punctuation and capitalisation has been removed. Stopword remove has removed words like \"has\". Lemmatizing has changed words to their root for - for example (from the text): \"tested\" to \"test\". Stemming has taken this another step further by removing certatin work ending."
   ]
  },
  {
   "cell_type": "code",
   "execution_count": 37,
   "metadata": {},
   "outputs": [
    {
     "data": {
      "image/png": "[encoded data removed]",
      "text/plain": [
       "<Figure size 432x288 with 1 Axes>"
      ]
     },
     "metadata": {
      "needs_background": "light"
     },
     "output_type": "display_data"
    }
   ],
   "source": [
    "## Creating FreqDist for 15 most frequent words in bag of words \n",
    "\n",
    "# Count vectorizer\n",
    "count_vec = CountVectorizer() \n",
    "\n",
    "# Function to plot words\n",
    "def freq_words(x, vectorizer, terms = 30, filename=None): \n",
    "  \n",
    "    X = vectorizer.fit_transform(x)\n",
    "    X_label = vectorizer.get_feature_names() # Get words\n",
    "    X_array = X.toarray() # Convert to array\n",
    "    words_zipped_count = list(zip(\n",
    "            X_label, np.sum(X_array,axis=0).tolist())) # Combine works with sum of works across docs\n",
    "    words_count_df = pd.DataFrame(words_zipped_count, columns=['word', 'count']) # Create dataframe\n",
    "    words_count_df = words_count_df.sort_values(\n",
    "            by='count', ascending=False) # Sort with most frequent words first\n",
    "\n",
    "\n",
    "    # selecting top n most frequent words \n",
    "    d1 = words_count_df.nlargest(columns=\"count\", n = terms).sort_values(by=['count'],ascending=True)\n",
    "    \n",
    "\n",
    "    # visualize words and frequencies\n",
    "\n",
    "    d1.plot(kind='barh', x='word', y='count') #, y='word'\n",
    "    plt.tight_layout()\n",
    "    if filename is not None:\n",
    "        plt.savefig(filename)\n",
    "    plt.show()\n",
    "\n",
    "freq_words(articles_df['bag_of_words'], count_vec, 15)\n"
   ]
  },
  {
   "cell_type": "markdown",
   "metadata": {},
   "source": [
    "The chart above shows the top 15 words  by frequency across the corpus."
   ]
  },
  {
   "cell_type": "markdown",
   "metadata": {},
   "source": [
    "## Encode Categorical Target Variable for Classification"
   ]
  },
  {
   "cell_type": "markdown",
   "metadata": {},
   "source": [
    "The classification is set up as a binary classification problem. The two classes ('business' and 'sport') will encoded in binary format using Sklearn's LabelBinarizer. The results of this is that 'sport' is set to 1 and 'business' is set to 0. This is important because most machine learning models require a numerical, vector representation of words for model training. \n",
    "\n",
    "The limitation of setting up this as a binary classification problem is that if another class (for example, 'food') is introduced the model would require updating. To solve this, classes could be encoded using \"One Hot Encoding\", which would encode each class using it's own binary encoding. "
   ]
  },
  {
   "cell_type": "code",
   "execution_count": 40,
   "metadata": {},
   "outputs": [
    {
     "data": {
      "text/html": [
       "<div>\n",
       "<style scoped>\n",
       "    .dataframe tbody tr th:only-of-type {\n",
       "        vertical-align: middle;\n",
       "    }\n",
       "\n",
       "    .dataframe tbody tr th {\n",
       "        vertical-align: top;\n",
       "    }\n",
       "\n",
       "    .dataframe thead th {\n",
       "        text-align: right;\n",
       "    }\n",
       "</style>\n",
       "<table border=\"1\" class=\"dataframe\">\n",
       "  <thead>\n",
       "    <tr style=\"text-align: right;\">\n",
       "      <th></th>\n",
       "      <th>uri</th>\n",
       "      <th>article_category</th>\n",
       "      <th>article_text_description</th>\n",
       "      <th>bag_of_words</th>\n",
       "      <th>article_category_bin</th>\n",
       "    </tr>\n",
       "  </thead>\n",
       "  <tbody>\n",
       "    <tr>\n",
       "      <td>0</td>\n",
       "      <td>/news/2021-11-24/afl-carlton-ceo-brian-cook-te...</td>\n",
       "      <td>sport</td>\n",
       "      <td>Carlton chief executive Brian Cook has tested...</td>\n",
       "      <td>carlton chief execut brian cook test posit for...</td>\n",
       "      <td>1</td>\n",
       "    </tr>\n",
       "    <tr>\n",
       "      <td>1</td>\n",
       "      <td>/news/2021-11-24/afl-national-draft-kangaroos-...</td>\n",
       "      <td>sport</td>\n",
       "      <td>Outstanding South Australian prospect Jason H...</td>\n",
       "      <td>outstand south australian prospect jason selec...</td>\n",
       "      <td>1</td>\n",
       "    </tr>\n",
       "    <tr>\n",
       "      <td>2</td>\n",
       "      <td>/news/2021-11-24/shaun-murphy-amateurs-not-pla...</td>\n",
       "      <td>sport</td>\n",
       "      <td>Professional snooker player Shaun Murphy says...</td>\n",
       "      <td>profession snooker player shaun murphi say ama...</td>\n",
       "      <td>1</td>\n",
       "    </tr>\n",
       "    <tr>\n",
       "      <td>3</td>\n",
       "      <td>/news/2021-11-24/teen-star-sophie-dwyer-headli...</td>\n",
       "      <td>sport</td>\n",
       "      <td>Giants goal-attack Sophie Dwyer has been elev...</td>\n",
       "      <td>giant sophi dwyer elev diamond tour invite sen...</td>\n",
       "      <td>1</td>\n",
       "    </tr>\n",
       "    <tr>\n",
       "      <td>4</td>\n",
       "      <td>/news/2021-11-24/wbbl-brisbane-heat-vs-adelaid...</td>\n",
       "      <td>sport</td>\n",
       "      <td>Adelaide Strikers spinner Amanda-Jade Welling...</td>\n",
       "      <td>adelaid striker spinner wellington produc best...</td>\n",
       "      <td>1</td>\n",
       "    </tr>\n",
       "  </tbody>\n",
       "</table>\n",
       "</div>"
      ],
      "text/plain": [
       "                                                 uri article_category  \\\n",
       "0  /news/2021-11-24/afl-carlton-ceo-brian-cook-te...            sport   \n",
       "1  /news/2021-11-24/afl-national-draft-kangaroos-...            sport   \n",
       "2  /news/2021-11-24/shaun-murphy-amateurs-not-pla...            sport   \n",
       "3  /news/2021-11-24/teen-star-sophie-dwyer-headli...            sport   \n",
       "4  /news/2021-11-24/wbbl-brisbane-heat-vs-adelaid...            sport   \n",
       "\n",
       "                            article_text_description  \\\n",
       "0   Carlton chief executive Brian Cook has tested...   \n",
       "1   Outstanding South Australian prospect Jason H...   \n",
       "2   Professional snooker player Shaun Murphy says...   \n",
       "3   Giants goal-attack Sophie Dwyer has been elev...   \n",
       "4   Adelaide Strikers spinner Amanda-Jade Welling...   \n",
       "\n",
       "                                        bag_of_words  article_category_bin  \n",
       "0  carlton chief execut brian cook test posit for...                     1  \n",
       "1  outstand south australian prospect jason selec...                     1  \n",
       "2  profession snooker player shaun murphi say ama...                     1  \n",
       "3  giant sophi dwyer elev diamond tour invite sen...                     1  \n",
       "4  adelaid striker spinner wellington produc best...                     1  "
      ]
     },
     "execution_count": 40,
     "metadata": {},
     "output_type": "execute_result"
    }
   ],
   "source": [
    "# Encode 2 classes from 'Article Category' as Binary encoding\n",
    "articles_df['article_category'].astype('category')\n",
    "\n",
    "lb = preprocessing.LabelBinarizer() # Create binarizer\n",
    "\n",
    "# Fit binarizer to category variable, transfrom variable and store to new variable\n",
    "articles_df['article_category_bin'] = lb.fit_transform(articles_df['article_category'])\n",
    "\n",
    "articles_df.head()\n"
   ]
  },
  {
   "cell_type": "markdown",
   "metadata": {},
   "source": [
    "## Create Feature Vector"
   ]
  },
  {
   "cell_type": "markdown",
   "metadata": {},
   "source": [
    "A feature vector for each document will be created using Sklearn's TfidfVectorizer. Through trail and error (using best performance of accuracy using 5 fold cross validation) of hyperparamaters the following hyperparamters for the vectorizer where found to work best with the Random Forest Model:\n",
    "\n",
    "* NGram was set to include 1 and 2 word grams.\n",
    "* Max Features is set to 1000. That means only the top 1000 TF-IDF words/ngrams are used, not all words/ngrams. "
   ]
  },
  {
   "cell_type": "code",
   "execution_count": 48,
   "metadata": {},
   "outputs": [
    {
     "name": "stdout",
     "output_type": "stream",
     "text": [
      "(236, 1000)\n",
      "(236,)\n"
     ]
    }
   ],
   "source": [
    "# TF-IDF\n",
    "\n",
    "# Create TF-IDF vectorizer\n",
    "tfidf_vec = TfidfVectorizer(max_features=1000, ngram_range=(1, 2)) \n",
    "\n",
    "# Fit and transform to 'bag of words' and convert to nd.array \n",
    "X = tfidf_vec.fit_transform(articles_df['bag_of_words']).toarray() \n",
    "\n",
    "print(X.shape) \n",
    "\n",
    "#Create target variable as nd.array\n",
    "y = articles_df['article_category_bin'].values \n",
    "\n",
    "\n",
    "print(y.shape)\n"
   ]
  },
  {
   "cell_type": "markdown",
   "metadata": {},
   "source": [
    "**Most frequent words (using TF-IDF) for 'sport' class:**"
   ]
  },
  {
   "cell_type": "code",
   "execution_count": 50,
   "metadata": {},
   "outputs": [
    {
     "data": {
      "image/png": "[encoded data removed]",
      "text/plain": [
       "<Figure size 432x288 with 1 Axes>"
      ]
     },
     "metadata": {
      "needs_background": "light"
     },
     "output_type": "display_data"
    }
   ],
   "source": [
    "freq_words(articles_df['bag_of_words'][articles_df['article_category_bin']==1], tfidf_vec, 20)"
   ]
  },
  {
   "cell_type": "markdown",
   "metadata": {},
   "source": [
    "**Most frequent words (using TF-IDF) for 'business' class:**"
   ]
  },
  {
   "cell_type": "code",
   "execution_count": 51,
   "metadata": {},
   "outputs": [
    {
     "data": {
      "image/png": "[encoded data removed]",
      "text/plain": [
       "<Figure size 432x288 with 1 Axes>"
      ]
     },
     "metadata": {
      "needs_background": "light"
     },
     "output_type": "display_data"
    }
   ],
   "source": [
    "freq_words(articles_df['bag_of_words'][articles_df['article_category_bin']==0], tfidf_vec, 20)"
   ]
  },
  {
   "cell_type": "markdown",
   "metadata": {},
   "source": [
    "## Training Test Split"
   ]
  },
  {
   "cell_type": "markdown",
   "metadata": {},
   "source": [
    "The corpus will be split into 10% for testing and 90% for training. "
   ]
  },
  {
   "cell_type": "code",
   "execution_count": 54,
   "metadata": {},
   "outputs": [],
   "source": [
    "# Split population in test and training sets\n",
    "X_train, X_test, y_train, y_test = train_test_split(X, y, test_size = 0.10, random_state = 0)\n"
   ]
  },
  {
   "cell_type": "markdown",
   "metadata": {},
   "source": [
    "## Model"
   ]
  },
  {
   "cell_type": "markdown",
   "metadata": {},
   "source": [
    "### Training"
   ]
  },
  {
   "cell_type": "markdown",
   "metadata": {},
   "source": [
    "#### Random Forest Model"
   ]
  },
  {
   "cell_type": "markdown",
   "metadata": {},
   "source": [
    "The following explict and implicit hyperparameters were selected for the Random Forest model. They were selected through a combination of trail and error (using best performance of accuracy using 5 fold cross validation) as the measure and literature guidance.\n",
    "\n",
    "* Number of estimators set to 100 based on trial and error. Other values attempted were (10, 50, 200, 1000, 10000). \n",
    "* Max depth set to None, which implies leaved are pruned until they are pure ([Sklearn documentation](https://scikit-learn.org/stable/modules/generated/sklearn.ensemble.RandomForestClassifier.html). This was set using trial and error. Other values attempted were (1, 2). Literature recommends p/3.\n",
    "* All other parameters were kept at SKlean's default values.\n",
    "\n",
    "Limitations of this approach are that these hyperparameters might not be the globally optimal parameters. This could be improved using gridsearch.\n",
    "\n"
   ]
  },
  {
   "cell_type": "code",
   "execution_count": 56,
   "metadata": {},
   "outputs": [
    {
     "data": {
      "text/plain": [
       "RandomForestClassifier(bootstrap=True, class_weight=None, criterion='gini',\n",
       "                       max_depth=None, max_features='auto', max_leaf_nodes=None,\n",
       "                       min_impurity_decrease=0.0, min_impurity_split=None,\n",
       "                       min_samples_leaf=1, min_samples_split=2,\n",
       "                       min_weight_fraction_leaf=0.0, n_estimators=100,\n",
       "                       n_jobs=None, oob_score=False, random_state=0, verbose=0,\n",
       "                       warm_start=False)"
      ]
     },
     "execution_count": 56,
     "metadata": {},
     "output_type": "execute_result"
    }
   ],
   "source": [
    "#Create a Random Forest Model\n",
    "classifier_rf = RandomForestClassifier(n_estimators=100, random_state=0)\n",
    "\n",
    "# Train the model using the training sets\n",
    "classifier_rf.fit(X_train, y_train)"
   ]
  },
  {
   "cell_type": "markdown",
   "metadata": {},
   "source": [
    "#### Guassian Naive Bayes Model"
   ]
  },
  {
   "cell_type": "markdown",
   "metadata": {},
   "source": [
    "A Naive Bayes model was also training to compare the Random Forest to. Naive Bayes are often used in text classification problems."
   ]
  },
  {
   "cell_type": "code",
   "execution_count": 57,
   "metadata": {},
   "outputs": [
    {
     "data": {
      "text/plain": [
       "GaussianNB(priors=None, var_smoothing=1e-09)"
      ]
     },
     "execution_count": 57,
     "metadata": {},
     "output_type": "execute_result"
    }
   ],
   "source": [
    "#Create a Gaussian Classifier\n",
    "classifier_nb = GaussianNB()\n",
    "\n",
    "# Train the model using the training sets\n",
    "classifier_nb.fit(X_train, y_train)"
   ]
  },
  {
   "cell_type": "markdown",
   "metadata": {},
   "source": [
    "### Evaluation"
   ]
  },
  {
   "cell_type": "markdown",
   "metadata": {},
   "source": [
    "Models will be evaulated using 5 fold cross validation of the training set to ensure all data is used. Accuracy will be used as the measure, including the standard deviation of accuracy to ensure the model is stable."
   ]
  },
  {
   "cell_type": "markdown",
   "metadata": {},
   "source": [
    "#### Random Forest Model"
   ]
  },
  {
   "cell_type": "code",
   "execution_count": 59,
   "metadata": {},
   "outputs": [
    {
     "name": "stdout",
     "output_type": "stream",
     "text": [
      "Random Forest Model\n",
      "Accuracy: 95.24%\n",
      "Standard Deviation: 3.42%\n"
     ]
    }
   ],
   "source": [
    "# Perform 5 fold cross validation\n",
    "fold_accuracies = cross_val_score(estimator = classifier_rf, X = X_train, y = y_train, cv = 5)\n",
    "\n",
    "# 5 fold cross validation results\n",
    "print('Random Forest Model')\n",
    "print(\"Accuracy: {:.2f}%\".format(fold_accuracies.mean()*100))\n",
    "print(\"Standard Deviation: {:.2f}%\".format(fold_accuracies.std()*100))"
   ]
  },
  {
   "cell_type": "markdown",
   "metadata": {},
   "source": [
    "#### Guassian Naive Bayes Model"
   ]
  },
  {
   "cell_type": "code",
   "execution_count": 60,
   "metadata": {},
   "outputs": [
    {
     "name": "stdout",
     "output_type": "stream",
     "text": [
      "Naive Bayes\n",
      "Accuracy: 91.94%\n",
      "Standard Deviation: 4.18%\n"
     ]
    }
   ],
   "source": [
    "# Perform 5 fold cross validation\n",
    "fold_accuracies = cross_val_score(estimator = classifier_nb, X = X_train, y = y_train, cv = 5)\n",
    "\n",
    "# 5 fold cross validation results\n",
    "print('Naive Bayes')\n",
    "print(\"Accuracy: {:.2f}%\".format(fold_accuracies.mean()*100))\n",
    "print(\"Standard Deviation: {:.2f}%\".format(fold_accuracies.std()*100))"
   ]
  },
  {
   "cell_type": "markdown",
   "metadata": {},
   "source": [
    "Results:\n",
    "\n",
    "|Measure|Random Forest|Naive Bayes|\n",
    "|:---|---|---|\n",
    "|Accuracy|95.24%|3.42%|\n",
    "|Standard Deviation of Accuracy|95.24%|4.18%|\n",
    "\n",
    "\n",
    "From the table above it can be seen than the Random forest produces a higher accuracy and has a lower standard deviation. It will be used for classification."
   ]
  },
  {
   "cell_type": "markdown",
   "metadata": {},
   "source": [
    "### Random Forest Performance On Test Data"
   ]
  },
  {
   "cell_type": "code",
   "execution_count": 78,
   "metadata": {},
   "outputs": [
    {
     "name": "stdout",
     "output_type": "stream",
     "text": [
      "Confusion Matrix: \n",
      " [[ 9  0]\n",
      " [ 0 15]]\n",
      "\n",
      "Accuracy: 100.00%\n"
     ]
    }
   ],
   "source": [
    "# Measure performance against test set\n",
    "y_pred = classifier_rf.predict(X_test)\n",
    "cm = confusion_matrix(y_test, y_pred)\n",
    "print('Confusion Matrix: \\n', cm)\n",
    "print(\"\\nAccuracy: {:.2f}%\".format(accuracy_score(y_test, y_pred)*100))\n"
   ]
  },
  {
   "cell_type": "markdown",
   "metadata": {},
   "source": [
    "Performance on the hold out test data is very good; 100% accuracy!"
   ]
  },
  {
   "cell_type": "markdown",
   "metadata": {},
   "source": [
    "# NLP Task 2\n"
   ]
  },
  {
   "cell_type": "markdown",
   "metadata": {},
   "source": [
    "NLP Task 2's objective is to extract company names from business articles. NLP Task 2 can be broken down into the following steps:\n",
    "\n",
    "**Step 1 - Filter to only include business articles**\n",
    "This task only applies to business articles, because it is only businesses listed on the stock exchange.\n",
    "\n",
    "**Step 2 - Extract parts of speech from documents**\n",
    "Parts of speech will be extracted and tagged with various functions from the NLTK library.\n",
    "\n",
    "**Step 3 - Extract potential named entities using chunking**\n",
    "Chucking will be performed to identify potential named entities using the NLTK library and Regex.\n",
    "\n",
    "**Step 4 - Search for matches for the potential named entities in the ASX dataset.**\n",
    "\n",
    "Instead of using standard or existing list of entity categories a custom algorithm will be used to search for similar coompany names in the ASX dataset. Cosine distance will be used as a similarity measure. The ASX will be prepocessed using a few basic NLP tasks and then vectorized.\n",
    "\n"
   ]
  },
  {
   "cell_type": "code",
   "execution_count": 87,
   "metadata": {},
   "outputs": [],
   "source": [
    "# Filter business articles only\n",
    "business_articles_df = articles_df[articles_df['article_category']=='business'].copy()"
   ]
  },
  {
   "cell_type": "markdown",
   "metadata": {},
   "source": [
    "### Potential Named Entity Extraction\n",
    "\n",
    "The 'bag of words' created earlier for Task 2 will not be used. The original article text will be used. The following processing is performed on each article text:\n",
    "\n",
    "* Tokenize sentences in articles\n",
    "* Tokenize words in sentences\n",
    "* Using NLTK's 'pos_tag' function to tag all parts of speech ('pos').\n",
    "\n",
    "Potential Named Entities are then extracted from the 'pos' using NLTK's Regex funtion with the follow paramaters:\n",
    "\n",
    "* <NNP.?>+ - Identify at least 1 or more singular or plural proper nouns. All company names (among other things) are proper nouns.\n",
    "* <NN.>* - These tags are included before and after the proper noun tags. They identify zero, one or more singular or plural non-proper nouns. Through experimentation this was found to work well in identifying most potential company names. While this does deviate from conventional grammar, company names often have more than one noun in them.\n"
   ]
  },
  {
   "cell_type": "code",
   "execution_count": 92,
   "metadata": {
    "scrolled": false
   },
   "outputs": [],
   "source": [
    "# Extract Potential Named Entities \n",
    "def get_potential_entities(df_row):\n",
    "    \n",
    "    # Input is a whole dataframe row. Expects 'article_text_description' variable to be present\n",
    "    potential_entities = set() # Output variable\n",
    "    document = df_row['article_text_description']\n",
    "    \n",
    "    # Get Parts of Speech using NLTK\n",
    "    sentences = nltk.sent_tokenize(document)\n",
    "    sentences = [nltk.word_tokenize(sentence) for sentence in sentences]\n",
    "    sentences = [nltk.pos_tag(sentence) for sentence in sentences]\n",
    "    \n",
    "    # Chunking\n",
    "    chunck_pos_regex = \"\"\"NP: {<NN.>*<NNP.?>+<NN.>*}\"\"\" # Identify proper nouns \n",
    "    chunck_parser = nltk.RegexpParser(chunck_pos_regex) # Create Parser\n",
    "    \n",
    "    # Loop through each sentence in text, parse chunks in sentence and store into temp variable\n",
    "    for sentence in sentences:\n",
    "        result = chunck_parser.parse(sentence)\n",
    "        \n",
    "        # Filter for proper noun chunks only\n",
    "        subtrees = result.subtrees(filter=lambda t: t.label() == 'NP')\n",
    "        named_words = None\n",
    "        for subtree in subtrees:        \n",
    "            named_words = [word[0].lower() for word in subtree.leaves()]\n",
    "            named_words = ' '.join(named_words)\n",
    "        if named_words is not None: potential_entities.add(named_words)\n",
    "\n",
    "    return list(potential_entities)\n",
    "\n",
    "\n",
    "business_articles_df['potential_entities'] = business_articles_df.apply(get_potential_entities, axis=1)\n"
   ]
  },
  {
   "cell_type": "code",
   "execution_count": 205,
   "metadata": {},
   "outputs": [
    {
     "data": {
      "text/plain": [
       "['social housing future fund',\n",
       " 'low-income',\n",
       " 'grattan institute',\n",
       " 'ahuri',\n",
       " 'grattan',\n",
       " 'commonwealth',\n",
       " 'australia',\n",
       " 'rent assistance',\n",
       " 'michael janda',\n",
       " 'investment corporation',\n",
       " 'australians',\n",
       " 'mr coates',\n",
       " 'medicare']"
      ]
     },
     "execution_count": 205,
     "metadata": {},
     "output_type": "execute_result"
    }
   ],
   "source": [
    "# Example of potential entities\n",
    "business_articles_df['potential_entities'].iloc[29]\n"
   ]
  },
  {
   "cell_type": "markdown",
   "metadata": {},
   "source": [
    "Potential entity matches are added as a list to a new column in the 'business_articles_df'. The table above shows an example of the potential entities extracted from a single article."
   ]
  },
  {
   "cell_type": "markdown",
   "metadata": {},
   "source": [
    "### Further processing on ASX data\n",
    "\n",
    "The following preprocessing was done on the ASX data set to prepare it for the cosine distance calculator:\n",
    "\n",
    "* A custom stop word list was created to remove generic company name terms like 'limited'.\n",
    "* All names were changed to lower case."
   ]
  },
  {
   "cell_type": "code",
   "execution_count": 138,
   "metadata": {},
   "outputs": [
    {
     "data": {
      "text/html": [
       "<div>\n",
       "<style scoped>\n",
       "    .dataframe tbody tr th:only-of-type {\n",
       "        vertical-align: middle;\n",
       "    }\n",
       "\n",
       "    .dataframe tbody tr th {\n",
       "        vertical-align: top;\n",
       "    }\n",
       "\n",
       "    .dataframe thead th {\n",
       "        text-align: right;\n",
       "    }\n",
       "</style>\n",
       "<table border=\"1\" class=\"dataframe\">\n",
       "  <thead>\n",
       "    <tr style=\"text-align: right;\">\n",
       "      <th></th>\n",
       "      <th>ASX code</th>\n",
       "      <th>Company name</th>\n",
       "      <th>Listing date</th>\n",
       "      <th>GICs industry group</th>\n",
       "      <th>Market Cap</th>\n",
       "      <th>name_clean</th>\n",
       "    </tr>\n",
       "  </thead>\n",
       "  <tbody>\n",
       "    <tr>\n",
       "      <td>0</td>\n",
       "      <td>14D</td>\n",
       "      <td>1414 DEGREES LIMITED</td>\n",
       "      <td>2018-09-12</td>\n",
       "      <td>Capital Goods</td>\n",
       "      <td>23064453.0</td>\n",
       "      <td>1414 degrees</td>\n",
       "    </tr>\n",
       "    <tr>\n",
       "      <td>1</td>\n",
       "      <td>1AD</td>\n",
       "      <td>ADALTA LIMITED</td>\n",
       "      <td>2016-08-22</td>\n",
       "      <td>Pharmaceuticals, Biotechnology &amp; Life Sciences</td>\n",
       "      <td>19651595.0</td>\n",
       "      <td>adalta</td>\n",
       "    </tr>\n",
       "    <tr>\n",
       "      <td>2</td>\n",
       "      <td>1AG</td>\n",
       "      <td>ALTERRA LIMITED</td>\n",
       "      <td>2008-05-16</td>\n",
       "      <td>Food, Beverage &amp; Tobacco</td>\n",
       "      <td>8333288.0</td>\n",
       "      <td>alterra</td>\n",
       "    </tr>\n",
       "    <tr>\n",
       "      <td>3</td>\n",
       "      <td>1ST</td>\n",
       "      <td>1ST GROUP LIMITED</td>\n",
       "      <td>2015-06-09</td>\n",
       "      <td>Health Care Equipment &amp; Services</td>\n",
       "      <td>6549087.0</td>\n",
       "      <td>1st</td>\n",
       "    </tr>\n",
       "    <tr>\n",
       "      <td>4</td>\n",
       "      <td>1VG</td>\n",
       "      <td>VICTORY GOLDFIELDS LIMITED</td>\n",
       "      <td>2021-07-22</td>\n",
       "      <td>Materials</td>\n",
       "      <td>9406886.0</td>\n",
       "      <td>victory goldfields</td>\n",
       "    </tr>\n",
       "  </tbody>\n",
       "</table>\n",
       "</div>"
      ],
      "text/plain": [
       "  ASX code                Company name Listing date  \\\n",
       "0      14D        1414 DEGREES LIMITED   2018-09-12   \n",
       "1      1AD              ADALTA LIMITED   2016-08-22   \n",
       "2      1AG             ALTERRA LIMITED   2008-05-16   \n",
       "3      1ST           1ST GROUP LIMITED   2015-06-09   \n",
       "4      1VG  VICTORY GOLDFIELDS LIMITED   2021-07-22   \n",
       "\n",
       "                              GICs industry group  Market Cap  \\\n",
       "0                                   Capital Goods  23064453.0   \n",
       "1  Pharmaceuticals, Biotechnology & Life Sciences  19651595.0   \n",
       "2                        Food, Beverage & Tobacco   8333288.0   \n",
       "3                Health Care Equipment & Services   6549087.0   \n",
       "4                                       Materials   9406886.0   \n",
       "\n",
       "           name_clean  \n",
       "0        1414 degrees  \n",
       "1              adalta  \n",
       "2             alterra  \n",
       "3                 1st  \n",
       "4  victory goldfields  "
      ]
     },
     "execution_count": 138,
     "metadata": {},
     "output_type": "execute_result"
    }
   ],
   "source": [
    "stopwords = ['limited','ltd','plc', 'group', 'australia','australian', '.']\n",
    "\n",
    "def clean_text(df_row):\n",
    "    word_list = str(df_row['Company name'])\n",
    "    word_list = word_list.split(' ')\n",
    "    #print(word_list)\n",
    "    filtered_words = [str(word.lower()) for word in word_list if word.lower() not in stopwords]\n",
    "    return ' '.join(filtered_words)\n",
    "    \n",
    "asx_df['name_clean'] = asx_df.apply(clean_text, axis=1)  \n",
    "\n",
    "asx_df.head()"
   ]
  },
  {
   "cell_type": "markdown",
   "metadata": {},
   "source": [
    "The table above shows the original ASX data with the newly added 'name_clean' field, which contains the processed data.\n",
    "\n",
    "### Model \n",
    "\n",
    "The corpus is all cleaned company names in the Asx data set. A document is either a company name in the list or the potential entity being searched for.\n",
    "\n",
    "The model executes the following steps:\n",
    "\n",
    "* Create labels and document term matrix for all documents in ASX corpus.\n",
    "* Convert the potential entity text (new data) to a document term matrix using the ASX vectorizer. Because this is a one way match only this is done to ensure that only words already in ASX corpus are considered. This ensures that irrelevant words from invalid potential entities are not added to the corpus and then matched later.\n",
    "* Calculate the cosine distance between each potential entity from each article and each document in the ASX corpus.\n",
    "* Only return matches if the cosine distance is lower that 0.2. This threshold was set using trial and error.\n",
    "* Create a output dataframe with all potential ASX matches.\n",
    "\n",
    "The code section below shows the implementation of this."
   ]
  },
  {
   "cell_type": "code",
   "execution_count": null,
   "metadata": {},
   "outputs": [],
   "source": [
    "# Fix count vectorizer on ASX data\n",
    "count_vec_asx = CountVectorizer()\n",
    "fitted_count_vec_asx = count_vec_asx.fit(asx_df['name_clean'])\n",
    "asx_doc_term_mat = count_vec_asx.transform(asx_df['name_clean'])\n",
    "\n",
    "\n",
    "def find_potential_entity_in_asx(potential_entity, count_vec, asx_doc_term_mat):\n",
    "    # for a given potential entity find similar documents in ASX corpus\n",
    "    potential_entity_doc_term_mat = count_vec_asx.transform(potential_entity) #transform potential entity to dtm\n",
    "    X = asx_doc_term_mat\n",
    "    a1 = potential_entity_doc_term_mat.toarray()\n",
    "    best = 0\n",
    "    best_dist = 9999\n",
    " \n",
    "    # Calculate cosine distance between potential_entity and each document in ASX corpus and return best match\n",
    "    for i in range(X.shape[0]):\n",
    "        a2 = X.getrow(i).toarray()[0]\n",
    "        dist = cosine(a1, a2)\n",
    "        if dist < best_dist:\n",
    "            best_dist = dist\n",
    "            best = i \n",
    "\n",
    "    best_match_index = None\n",
    "    \n",
    "    # Filter threshold - only return matches with a smaller distance that threshold\n",
    "    if best_dist < 0.2:\n",
    "        best_match_index = best\n",
    "    \n",
    "    return best_match_index, best_dist\n",
    "\n",
    "def find_potential_match(business_articles_df, asx_df):\n",
    "    # Function to iterate over all potential entities in each article and search for match in ASX data.\n",
    "    \n",
    "    #Create output dataframe\n",
    "    match_df = pd.DataFrame(columns={'uri','potential_entities',\n",
    "                                     'potenitial_asx_company_name', 'cosine_distance'})\n",
    "    \n",
    "    # Iterate over input dataframe rows (articles)\n",
    "    for idx, df_row in business_articles_df.iterrows():\n",
    "        \n",
    "        print(df_row.name)\n",
    "        output = None\n",
    "        best_match_count = 0\n",
    "        \n",
    "        # Iterate through potential entities identified in row (article)\n",
    "        for potential_entity in df_row['potential_entities']:\n",
    "            best_match_index, best_dist = find_potential_entity_in_asx(\n",
    "                    [potential_entity], count_vec_asx, asx_doc_term_mat)\n",
    "            \n",
    "            # If match is found append to output dataframe\n",
    "            if best_match_index is not None:                \n",
    "                best_match = asx_df['Company name'].iloc[best_match_index]\n",
    "         \n",
    "                match_df = match_df.append(pd.DataFrame(\n",
    "                        data=[[df_row['uri'], potential_entity, best_match, best_dist]] ,\n",
    "                        columns={'uri','potential_entities','potenitial_asx_company_name', 'cosine_distance'}),\n",
    "                        ignore_index=True)\n",
    "\n",
    "                \n",
    "    return match_df\n",
    "\n",
    "\n",
    "match_df = find_potential_match(business_articles_df, asx_df)\n",
    "                \n"
   ]
  },
  {
   "cell_type": "code",
   "execution_count": 226,
   "metadata": {},
   "outputs": [],
   "source": [
    "match_df.rename(columns={ 'cosine_distance':'uri',\n",
    "                         'uri':'potenitial_asx_company_name', 'potenitial_asx_company_name':'cosine_distance' },\n",
    "                inplace = True)\n",
    "\n"
   ]
  },
  {
   "cell_type": "code",
   "execution_count": 236,
   "metadata": {},
   "outputs": [
    {
     "name": "stdout",
     "output_type": "stream",
     "text": [
      "Number of Business Articles Evaulated:  112\n",
      "Number of Potential Entity Matches:  31\n",
      "Number of unique Articles with at least 1 match:  19\n",
      "Number of unique ASX companies matched:  20\n",
      "Cosine Statistics: \n",
      " count    31.000000\n",
      "mean      0.029597\n",
      "std       0.068608\n",
      "min       0.000000\n",
      "25%       0.000000\n",
      "50%       0.000000\n",
      "75%       0.000000\n",
      "max       0.183503\n",
      "Name: cosine_distance, dtype: float64\n"
     ]
    },
    {
     "data": {
      "text/html": [
       "<div>\n",
       "<style scoped>\n",
       "    .dataframe tbody tr th:only-of-type {\n",
       "        vertical-align: middle;\n",
       "    }\n",
       "\n",
       "    .dataframe tbody tr th {\n",
       "        vertical-align: top;\n",
       "    }\n",
       "\n",
       "    .dataframe thead th {\n",
       "        text-align: right;\n",
       "    }\n",
       "</style>\n",
       "<table border=\"1\" class=\"dataframe\">\n",
       "  <thead>\n",
       "    <tr style=\"text-align: right;\">\n",
       "      <th></th>\n",
       "      <th>uri</th>\n",
       "      <th>potential_entities</th>\n",
       "      <th>potenitial_asx_company_name</th>\n",
       "      <th>cosine_distance</th>\n",
       "    </tr>\n",
       "  </thead>\n",
       "  <tbody>\n",
       "    <tr>\n",
       "      <td>0</td>\n",
       "      <td>/news/2021-11-26/uranium-miner-vimy-mulga-rock...</td>\n",
       "      <td>vimy resources</td>\n",
       "      <td>VIMY RESOURCES LIMITED</td>\n",
       "      <td>0.000000</td>\n",
       "    </tr>\n",
       "    <tr>\n",
       "      <td>1</td>\n",
       "      <td>/news/2021-11-27/queensland-mining-towns-face-...</td>\n",
       "      <td>bhp</td>\n",
       "      <td>BHP GROUP LIMITED</td>\n",
       "      <td>0.000000</td>\n",
       "    </tr>\n",
       "    <tr>\n",
       "      <td>2</td>\n",
       "      <td>/news/2021-11-28/bobby-pate-kombi-coffee-van-b...</td>\n",
       "      <td>fleetwood mac</td>\n",
       "      <td>FLEETWOOD LIMITED</td>\n",
       "      <td>0.000000</td>\n",
       "    </tr>\n",
       "    <tr>\n",
       "      <td>3</td>\n",
       "      <td>/news/2021-11-28/community-rallies-against-woo...</td>\n",
       "      <td>bhp</td>\n",
       "      <td>BHP GROUP LIMITED</td>\n",
       "      <td>0.000000</td>\n",
       "    </tr>\n",
       "    <tr>\n",
       "      <td>4</td>\n",
       "      <td>/news/2021-11-29/markets-wall-street-dow-jones...</td>\n",
       "      <td>st george economists</td>\n",
       "      <td>ST GEORGE MINING LIMITED</td>\n",
       "      <td>0.183503</td>\n",
       "    </tr>\n",
       "  </tbody>\n",
       "</table>\n",
       "</div>"
      ],
      "text/plain": [
       "                                                 uri    potential_entities  \\\n",
       "0  /news/2021-11-26/uranium-miner-vimy-mulga-rock...        vimy resources   \n",
       "1  /news/2021-11-27/queensland-mining-towns-face-...                   bhp   \n",
       "2  /news/2021-11-28/bobby-pate-kombi-coffee-van-b...         fleetwood mac   \n",
       "3  /news/2021-11-28/community-rallies-against-woo...                   bhp   \n",
       "4  /news/2021-11-29/markets-wall-street-dow-jones...  st george economists   \n",
       "\n",
       "  potenitial_asx_company_name  cosine_distance  \n",
       "0      VIMY RESOURCES LIMITED         0.000000  \n",
       "1           BHP GROUP LIMITED         0.000000  \n",
       "2           FLEETWOOD LIMITED         0.000000  \n",
       "3           BHP GROUP LIMITED         0.000000  \n",
       "4    ST GEORGE MINING LIMITED         0.183503  "
      ]
     },
     "execution_count": 236,
     "metadata": {},
     "output_type": "execute_result"
    }
   ],
   "source": [
    "print('Number of Business Articles Evaulated: ', business_articles_df['uri'].count())\n",
    "print('Number of Potential Entity Matches: ', match_df['uri'].count())\n",
    "print('Number of unique Articles with at least 1 match: ', match_df['uri'].drop_duplicates().count())\n",
    "print('Number of unique ASX companies matched: ' ,match_df['potenitial_asx_company_name'].drop_duplicates().count())\n",
    "print('Cosine Statistics: \\n', match_df['cosine_distance'].describe())\n",
    "match_df.head()"
   ]
  },
  {
   "cell_type": "code",
   "execution_count": 237,
   "metadata": {},
   "outputs": [],
   "source": [
    "match_df.to_csv('match_df.csv')"
   ]
  },
  {
   "cell_type": "markdown",
   "metadata": {},
   "source": [
    "### Evaluation"
   ]
  },
  {
   "attachments": {},
   "cell_type": "markdown",
   "metadata": {},
   "source": [
    "A total of 112 business articles were evaluated for potential entities. 31 potential entity matches in 19 of these articles. These potential matches identified 20 potential ASX companies. The cosine similarity measure had a mean of 0.03 and a standard deviation of 0.07, which means most matches were very good and reliable.\n",
    "\n",
    "Due to the lack of ground truth data for this model and the low number of matches all matches were checked manually by a 'human in the loop'. 20 of the 31 matches were found to be accurate, which is an accuracy score of 65%. Below are some examples of correct matches:\n",
    "\n",
    "|Named Entity from NLP|ASX company name from matching|\n",
    "|:---|---|\n",
    "|vimy resources|VIMY RESOURCES LIMITED|\n",
    "|tassal|TASSAL GROUP LIMITED|\n",
    "|endeavour group|ENDEAVOUR GROUP LIMITED|\n",
    "|national australia bank|NATIONAL AUSTRALIA BANK LIMITED|\n",
    "\n"
   ]
  }
 ],
 "metadata": {
  "kernelspec": {
   "display_name": "Python 3",
   "language": "python",
   "name": "python3"
  },
  "language_info": {
   "codemirror_mode": {
    "name": "ipython",
    "version": 3
   },
   "file_extension": ".py",
   "mimetype": "text/x-python",
   "name": "python",
   "nbconvert_exporter": "python",
   "pygments_lexer": "ipython3",
   "version": "3.7.4"
  }
 },
 "nbformat": 4,
 "nbformat_minor": 2
}
