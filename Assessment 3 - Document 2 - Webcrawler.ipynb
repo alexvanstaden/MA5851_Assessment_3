{
 "cells": [
  {
   "cell_type": "markdown",
   "metadata": {},
   "source": [
    "# Automated text classifier and named entity extractor\n",
    "**Renier Alexander van Staden**\n"
   ]
  },
  {
   "cell_type": "markdown",
   "metadata": {},
   "source": [
    "## Webcrawler Implementation"
   ]
  },
  {
   "cell_type": "markdown",
   "metadata": {},
   "source": [
    "### Domains\n",
    "\n",
    "The URL's to be crawled are:\n",
    "- HTML scraping:\n",
    "    - https://www.abc.net.au/news/business/\n",
    "    - https://www.abc.net.au/news/sport/\n",
    "- Content APIs:\n",
    "    - https://www.abc.net.au/news-web/api/loader/channelrefetch\n",
    "    \n",
    "    \n",
    "The ABC News website contains extensive coverage of both \"business\" and \"sports\" domain. The website has dedicated subsections for each of these domains. The subsection that an article is classified under is useful as the category classification can be deteremined from this. The article summary and article text includes all text required for NLP tasks.\n",
    "    \n",
    "    \n",
    "#### Copyright\n",
    "\n",
    "**Terms of Use**\n",
    "\n",
    "All content is owned by ABC, but can be used for personal and non-commerical purposes [ABC Terms of Use](https://help.abc.net.au/hc/en-us/articles/360001548096). Webcrawling is not explicity excluded from terms of use.\n",
    "\n",
    "**Robots.txt**\n",
    "\n",
    "While some agents and URL's are disallowed, the intended URL's are not disallowed.\n",
    "\n",
    "\n",
    "#### Other meta-data\n",
    "\n",
    "Information about companies listed on the ASX is directly downloaded as CSV and saved. This will be used to extract company stock exchange metadata (as an example)."
   ]
  },
  {
   "cell_type": "markdown",
   "metadata": {},
   "source": [
    "## Webcrawler flow and data wrangling"
   ]
  },
  {
   "cell_type": "markdown",
   "metadata": {},
   "source": [
    "The following Python packages will be used:\n",
    "- Requests: to download html or json data from websites\n",
    "- BeautifulSoup: to parse html\n",
    "- Regex: to assist with data cleaning\n",
    "- JSON: to handle JSON data\n",
    "- Pandas: to create a tabular output\n",
    "- Matplotlib for plotting"
   ]
  },
  {
   "cell_type": "code",
   "execution_count": 19,
   "metadata": {},
   "outputs": [],
   "source": [
    "# Import Libraries\n",
    "import requests\n",
    "from bs4 import BeautifulSoup\n",
    "import re\n",
    "import json\n",
    "import pandas as pd\n",
    "import matplotlib.pyplot as plt\n",
    "%matplotlib inline"
   ]
  },
  {
   "cell_type": "markdown",
   "metadata": {},
   "source": [
    "A list or initial URL's is created and looped through. Each URL is for the main 'business' and 'sports' pages of the ABC News website. Each URL's html page is downloaded and saved to disk. Error handlers are included in case of a runtime error, including HTTP server errors."
   ]
  },
  {
   "cell_type": "code",
   "execution_count": 3,
   "metadata": {},
   "outputs": [],
   "source": [
    "# List of URL tuples with url and classification\n",
    "urls = [('https://www.abc.net.au/news/business/','business'),('https://www.abc.net.au/news/sport/','sport')] "
   ]
  },
  {
   "cell_type": "code",
   "execution_count": 5,
   "metadata": {},
   "outputs": [
    {
     "name": "stdout",
     "output_type": "stream",
     "text": [
      "Saved to File:  business\n",
      "Saved to File:  sport\n"
     ]
    }
   ],
   "source": [
    "# Download html of main pages\n",
    "for url in urls:\n",
    "    article_category = url[1]\n",
    "    filename = \"abc_\" + article_category + \"_inital_page.txt\"   \n",
    "    url = url[0]\n",
    "    \n",
    "    try:       \n",
    "        page = requests.get(url) # Get main page\n",
    "        \n",
    "        if page.status_code == 200: # if successfull write to file\n",
    "            with open(filename,mode=\"w\",encoding=\"utf-8\") as file:\n",
    "                file.write(page.text)\n",
    "                file.close()\n",
    "            print('Saved to File: ',article_category)\n",
    "        else:\n",
    "            print('HTTP Error')\n",
    "    except Exception as  e:\n",
    "        print(e)\n",
    "\n"
   ]
  },
  {
   "cell_type": "markdown",
   "metadata": {},
   "source": [
    "The raw html articles are then parsed using the BeautifulSoup library. Each artilce is included in a 'h3' div element with {\"data-component\":\"CardHeading\"} as it's class. The key pieces of information being extracted for each article are:\n",
    "- Article link (URL): this is extracted from a tag's href in the div\n",
    "- Article Description: this is extracted from a tag's contents in the div\n",
    "- Article Category: this is predetermined based on the initial page source URL.\n",
    "\n",
    "Throughout this application the 'articles\" object will be used as a working object to add, remove and manipluate data. The object is a Python dictionary and stored and a JSON."
   ]
  },
  {
   "cell_type": "code",
   "execution_count": 6,
   "metadata": {},
   "outputs": [
    {
     "name": "stdout",
     "output_type": "stream",
     "text": [
      "Article Count from Main Pages:  61\n"
     ]
    }
   ],
   "source": [
    "# Parse main page HTMLs\n",
    "\n",
    "articles = {}\n",
    "\n",
    "for url in urls:\n",
    "    article_category = url[1]\n",
    "    filename = \"abc_\" + article_category + \"_inital_page.txt\"  \n",
    "    url = url[0]\n",
    "\n",
    "\n",
    "    with open(filename,mode=\"r\",encoding=\"utf-8\") as file:\n",
    "        page = file.read()\n",
    "\n",
    "    soup = BeautifulSoup(page, 'html.parser')\n",
    "    div = soup.find_all('h3', {\"data-component\":\"CardHeading\"}) # tag containing article heading and link\n",
    "\n",
    "    def is_valid_target_business_link(article_link):\n",
    "            # Check if the article is a business article (excludes video and radio)\n",
    "            valid_link = False\n",
    "            regex_strings = ['/news/\\d', '/news/rural/'] # Regex stings for valid url's\n",
    "            for regex_string in regex_strings:\n",
    "                x = re.search(regex_string, article_link) \n",
    "                if x: valid_link = True\n",
    "            return valid_link\n",
    "\n",
    "    # Loop through all divs with articles and extract relevant details from \n",
    "    for d in div:\n",
    "        a_tag = d.find('a') # Get a tag in div\n",
    "        if a_tag is not None: # check if there is an a tag         \n",
    "            article_link = a_tag.get('href') # Get Article link from the a_tag            \n",
    "            valid_link = is_valid_target_business_link(article_link) # Check for valid business url\n",
    "            if valid_link: # Add to articles list\n",
    "                article_description = a_tag.contents[0]\n",
    "                article = {}\n",
    "                article['description'] = article_description\n",
    "                article['article_category'] = article_category\n",
    "                articles[article_link] = article\n",
    "\n",
    "print('Article Count from Main Pages: ', len(articles))\n",
    "\n",
    "\n"
   ]
  },
  {
   "cell_type": "markdown",
   "metadata": {},
   "source": [
    "All articles from the main pages were parsed and added to the 'articles' object.\n",
    "\n",
    "There were only 61 'business' or 'sports' articles across both of the intial page loads. This is not sufficient for NLP. To add more 100 additional articles for each of the 'business' and 'sports' categories will be downloaded using the API called when the \"Load More Stories\" button (see A. in Figure 2) is clicked. This API URL and paramaters were found by inspecting the Network calls when the \"Load More Stories\" button is clicked in the Chrome browser.\n",
    "\n",
    "   ![ABC API Example](img/abc_api_example.PNG)\n",
    "\n",
    "*Figure 2 - Example of ABC API*\n",
    "\n",
    "Figure 2, item B. shows an example of the ABC API (/news-web/api/loader/channelrefetch) and its query paramaters that are used to download more articles. "
   ]
  },
  {
   "cell_type": "code",
   "execution_count": 116,
   "metadata": {},
   "outputs": [
    {
     "name": "stdout",
     "output_type": "stream",
     "text": [
      "Saved to File\n",
      "Saved to File\n"
     ]
    }
   ],
   "source": [
    "# Download more Articles (need up to 100) from ABC API\n",
    "business_api_url = ('https://www.abc.net.au/news-web/api/loader/channelrefetch?name=PaginationArticles&documentId=12785638&prepareParams={%22imagePosition%22:{%22mobile%22:%22right%22,%22tablet%22:%22right%22,%22desktop%22:%22right%22}}&loaderParams={%22pagination%22:{%22size%22:5}}&offset=5&size=100&total=250','business')\n",
    "sport_api_url = ('https://www.abc.net.au/news-web/api/loader/channelrefetch?name=PaginationArticles&documentId=12785658&prepareParams=%7B%22imagePosition%22:%7B%22mobile%22:%22right%22,%22tablet%22:%22right%22,%22desktop%22:%22right%22%7D%7D&loaderParams=%7B%22pagination%22:%7B%22size%22:5%7D%7D&offset=5&size=100&total=250','sport')\n",
    "\n",
    "api_urls = [business_api_url,sport_api_url]\n",
    "\n",
    "\n",
    "for api_url in api_urls:\n",
    "    article_category = api_url[1]\n",
    "    filename = \"abc_\" + article_category + \"_additional_articles_raw_json.txt\"  \n",
    "    api_url = api_url[0]\n",
    "    try:\n",
    "        response = requests.get(api_url)\n",
    "\n",
    "        if response.status_code == 200:\n",
    "            with open(filename,mode=\"w\",encoding=\"utf-8\") as file:\n",
    "                file.write(response.text)\n",
    "                file.close()\n",
    "            print('Saved to File')\n",
    "        else:\n",
    "            print('HTTP Error')\n",
    "    except Exception as  e:\n",
    "        print(e)\n",
    "\n"
   ]
  },
  {
   "cell_type": "markdown",
   "metadata": {},
   "source": [
    "An example of the JSON object returned by the 'contentfetch' API is shown in Figure 3. In Figure 3 the link and article description are highlighted. \n",
    "\n",
    "![Returned JSON example](img/abc_api_json_example.PNG)\n",
    "\n",
    "*Figure 3 - Returned JSON example*\n",
    "\n",
    "The next section of code parses the link and article description from the JSON object and adds it to the \"articles\" working object."
   ]
  },
  {
   "cell_type": "code",
   "execution_count": 7,
   "metadata": {},
   "outputs": [
    {
     "name": "stdout",
     "output_type": "stream",
     "text": [
      "Updated Articles Count:  243\n",
      "Saved to File\n"
     ]
    }
   ],
   "source": [
    "# Parse JSON and combine with other data\n",
    "for url in urls:\n",
    "    article_category = url[1]\n",
    "    filename = \"abc_\" + article_category + \"_additional_articles_raw_json.txt\"   \n",
    "\n",
    "    # Open JSON with second list of articles from API\n",
    "    with open(filename,mode=\"r\",encoding=\"utf-8\") as file:# Open file object\n",
    "        abc_json = file.read() # Read objecto to string\n",
    "\n",
    "    abc_json = json.loads(abc_json) # Convert sting to JSON\n",
    "\n",
    "    # Loop through JSON list, extract article details and apprend to \"article\" list\n",
    "    for article in abc_json['collection']:\n",
    "        #print(article['title']['children'])\n",
    "\n",
    "        article_link = article['link']['to'] # Get Article link from the a_tag            \n",
    "        valid_link = is_valid_target_business_link(article_link) # Check for valid business url\n",
    "        if valid_link:\n",
    "            article_description = article['title']['children']\n",
    "            article = {}\n",
    "            article['description'] = article_description\n",
    "            article['article_category'] = article_category\n",
    "            articles[article_link] = article\n",
    "\n",
    "print('Updated Articles Count: ', len(articles))\n",
    "\n",
    "\n",
    "# Save Articles to file  \n",
    "with open(\"abc_articles.txt\",mode=\"w\",encoding=\"utf-8\") as file:\n",
    "        file.write(json.dumps(articles))\n",
    "        file.close()\n",
    "print('Saved to File')        \n",
    "\n",
    " \n"
   ]
  },
  {
   "cell_type": "markdown",
   "metadata": {},
   "source": [
    "After downloading and validation more articles with the API a total of 243 articles are now available for NLP. The section below downloads the html files for each individal file and saves them to disk for processing later."
   ]
  },
  {
   "cell_type": "code",
   "execution_count": 8,
   "metadata": {},
   "outputs": [
    {
     "name": "stdout",
     "output_type": "stream",
     "text": [
      "Articles to process:  243\n",
      "Saved to File\n"
     ]
    }
   ],
   "source": [
    "# Download article html for all articles in list and save to disk\n",
    "with open(\"abc_articles.txt\",mode=\"r\",encoding=\"utf-8\") as file:\n",
    "    articles = json.load(file)# Open file object\n",
    "\n",
    "base_url = 'https://www.abc.net.au'\n",
    "\n",
    "\n",
    "print('Articles to process: ', len(articles))\n",
    "for idx, article in enumerate(articles):\n",
    "    url = base_url + article # Create Article URL\n",
    "    \n",
    "    try:\n",
    "        page = requests.get(url)\n",
    "        if page.status_code == 200:\n",
    "\n",
    "            articles[article]['raw_html'] = page.text\n",
    "        else:\n",
    "            print('Server Error:', article)\n",
    "\n",
    "    except Exception as  e:\n",
    "        print(e)\n",
    "\n",
    "\n",
    "# Save Articles to file        \n",
    "with open(\"abc_articles_with_raw.txt\",mode=\"w\",encoding=\"utf-8\") as file:\n",
    "        file.write(json.dumps(articles))\n",
    "        file.close()\n",
    "print('Saved to File') \n",
    "\n",
    "\n"
   ]
  },
  {
   "cell_type": "markdown",
   "metadata": {},
   "source": [
    "The code section below parses article text from all article html files and adds the article text the the 'articles' object. Any requests that through exceptions below are likely to cause 'NA' values in the final dataset. 'NAs' will have to be dropped before dataset is for NLTK tasks."
   ]
  },
  {
   "cell_type": "code",
   "execution_count": 9,
   "metadata": {},
   "outputs": [
    {
     "name": "stdout",
     "output_type": "stream",
     "text": [
      "Articles to process:  243\n",
      "list index out of range\n",
      "/news/2021-11-30/australia-matildas-draw-with-usa-in-newcastle/100658892\n",
      "list index out of range\n",
      "/news/2021-11-28/teofimo-lopez-vs-george-kambosos-jr-updates-boxing-blog/100655884\n",
      "list index out of range\n",
      "/news/2021-11-27/usa-beat-australia-matildas-3-0-sydney/100631628\n",
      "list index out of range\n",
      "/news/2021-11-26/afl-rookie-and-preseason-draft-live-blog/100653554\n",
      "Saved to File\n"
     ]
    }
   ],
   "source": [
    "# Parse downloaded HTML\n",
    "# Load Articles        \n",
    "with open(\"abc_articles_with_raw.txt\",mode=\"r\",encoding=\"utf-8\") as file:\n",
    "    articles = json.load(file)# Open file object\n",
    "\n",
    "print('Articles to process: ', len(articles))\n",
    "for idx, article in enumerate(articles):\n",
    "    article_text = ''\n",
    "    page = articles[article]['raw_html']\n",
    "    soup = BeautifulSoup(page, 'html.parser') \n",
    "    div = soup.find_all('div', {'data-component':'LayoutContainer'}) \n",
    "    p_tag = div[0].find_all('p')\n",
    "    try:\n",
    "        for p in p_tag:\n",
    "            current_tag_contents = ' '\n",
    "            has_child = len(p.find_all('a')) != 0\n",
    "            if has_child:\n",
    "                a_tag = p.find()\n",
    "                if isinstance(a_tag.contents[0] ,str):\n",
    "                    current_tag_contents = a_tag.contents[0]\n",
    "            else:\n",
    "                if isinstance(p.contents[0] ,str):\n",
    "                    current_tag_contents = p.contents[0]\n",
    "\n",
    "            article_text = ' '.join([article_text,current_tag_contents])\n",
    "    except Exception as  e:\n",
    "        print(e)\n",
    "        print(article)\n",
    "    article_text = article_text.replace(u'\\xa0', u' ') # Replace Unicode non-breaking space with regular space\n",
    "    articles[article]['article_text'] = article_text # Add extractd article text to json\n",
    "    del articles[article]['raw_html'] # Remove raw html\n",
    "    \n",
    "\n",
    "# Save Articles to file        \n",
    "with open(\"abc_articles_with_cleaned.txt\",mode=\"w\",encoding=\"utf-8\") as file:\n",
    "        file.write(json.dumps(articles, ensure_ascii=False))\n",
    "        file.close()\n",
    "print('Saved to File') \n",
    "    "
   ]
  },
  {
   "cell_type": "markdown",
   "metadata": {},
   "source": [
    "Finally, the 'articles' object is coverted to a Pandas Dataframe and saved a csv for processing by NLP tasks."
   ]
  },
  {
   "cell_type": "code",
   "execution_count": 12,
   "metadata": {},
   "outputs": [],
   "source": [
    "# Parse downloaded HTML\n",
    "# Save Articles to file        \n",
    "with open(\"abc_articles_with_cleaned.txt\",mode=\"r\",encoding=\"utf-8\") as file:\n",
    "    articles = json.load(file)# Open file object\n",
    "   \n",
    "    \n",
    "# Convert to CSV and save final output for use in NLP\n",
    "articles_df = pd.read_json(\"abc_articles_with_cleaned.txt\", orient='index')\n",
    "articles_df.rename_axis(\"uri\",inplace=True)\n",
    "articles_df.reset_index(inplace=True)\n",
    "articles_df.to_csv(\"abc_articles_df.csv\", index=False, sep='|', encoding='utf-16')\n"
   ]
  },
  {
   "cell_type": "markdown",
   "metadata": {},
   "source": [
    "The table below shows the first 5 rows of the final table:"
   ]
  },
  {
   "cell_type": "code",
   "execution_count": 63,
   "metadata": {},
   "outputs": [
    {
     "data": {
      "text/html": [
       "<div>\n",
       "<style scoped>\n",
       "    .dataframe tbody tr th:only-of-type {\n",
       "        vertical-align: middle;\n",
       "    }\n",
       "\n",
       "    .dataframe tbody tr th {\n",
       "        vertical-align: top;\n",
       "    }\n",
       "\n",
       "    .dataframe thead th {\n",
       "        text-align: right;\n",
       "    }\n",
       "</style>\n",
       "<table border=\"1\" class=\"dataframe\">\n",
       "  <thead>\n",
       "    <tr style=\"text-align: right;\">\n",
       "      <th></th>\n",
       "      <th>uri</th>\n",
       "      <th>article_category</th>\n",
       "      <th>article_text</th>\n",
       "      <th>description</th>\n",
       "    </tr>\n",
       "  </thead>\n",
       "  <tbody>\n",
       "    <tr>\n",
       "      <td>0</td>\n",
       "      <td>/news/2021-11-24/afl-carlton-ceo-brian-cook-te...</td>\n",
       "      <td>sport</td>\n",
       "      <td>Carlton chief executive Brian Cook has tested...</td>\n",
       "      <td>Carlton AFL boss returns positive COVID test</td>\n",
       "    </tr>\n",
       "    <tr>\n",
       "      <td>1</td>\n",
       "      <td>/news/2021-11-24/afl-national-draft-kangaroos-...</td>\n",
       "      <td>sport</td>\n",
       "      <td>Outstanding South Australian prospect Jason H...</td>\n",
       "      <td>Kangaroos take Horne-Francis with number one s...</td>\n",
       "    </tr>\n",
       "    <tr>\n",
       "      <td>2</td>\n",
       "      <td>/news/2021-11-24/shaun-murphy-amateurs-not-pla...</td>\n",
       "      <td>sport</td>\n",
       "      <td>Professional snooker player Shaun Murphy says...</td>\n",
       "      <td>Former champion says amateur snooker players s...</td>\n",
       "    </tr>\n",
       "    <tr>\n",
       "      <td>3</td>\n",
       "      <td>/news/2021-11-24/teen-star-sophie-dwyer-headli...</td>\n",
       "      <td>sport</td>\n",
       "      <td>Giants goal-attack Sophie Dwyer has been elev...</td>\n",
       "      <td>Rising star Sophie Dwyer earns call-up to Aust...</td>\n",
       "    </tr>\n",
       "    <tr>\n",
       "      <td>4</td>\n",
       "      <td>/news/2021-11-24/wbbl-brisbane-heat-vs-adelaid...</td>\n",
       "      <td>sport</td>\n",
       "      <td>Adelaide Strikers spinner Amanda-Jade Welling...</td>\n",
       "      <td>Adelaide Strikers stay alive in WBBL finals wi...</td>\n",
       "    </tr>\n",
       "  </tbody>\n",
       "</table>\n",
       "</div>"
      ],
      "text/plain": [
       "                                                 uri article_category  \\\n",
       "0  /news/2021-11-24/afl-carlton-ceo-brian-cook-te...            sport   \n",
       "1  /news/2021-11-24/afl-national-draft-kangaroos-...            sport   \n",
       "2  /news/2021-11-24/shaun-murphy-amateurs-not-pla...            sport   \n",
       "3  /news/2021-11-24/teen-star-sophie-dwyer-headli...            sport   \n",
       "4  /news/2021-11-24/wbbl-brisbane-heat-vs-adelaid...            sport   \n",
       "\n",
       "                                        article_text  \\\n",
       "0   Carlton chief executive Brian Cook has tested...   \n",
       "1   Outstanding South Australian prospect Jason H...   \n",
       "2   Professional snooker player Shaun Murphy says...   \n",
       "3   Giants goal-attack Sophie Dwyer has been elev...   \n",
       "4   Adelaide Strikers spinner Amanda-Jade Welling...   \n",
       "\n",
       "                                         description  \n",
       "0       Carlton AFL boss returns positive COVID test  \n",
       "1  Kangaroos take Horne-Francis with number one s...  \n",
       "2  Former champion says amateur snooker players s...  \n",
       "3  Rising star Sophie Dwyer earns call-up to Aust...  \n",
       "4  Adelaide Strikers stay alive in WBBL finals wi...  "
      ]
     },
     "execution_count": 63,
     "metadata": {},
     "output_type": "execute_result"
    }
   ],
   "source": [
    "articles_df.head()"
   ]
  },
  {
   "cell_type": "markdown",
   "metadata": {},
   "source": [
    " The four fields in the output file are:\n",
    "\n",
    "|Field Name|Description|\n",
    "|:---|---|\n",
    "|uri|This text field has the url for the original article. This field is unique for each record.|\n",
    "|article_category|This field is the article category ('business' or 'sport')|\n",
    "|article_text|This field is the full article text / body.|\n",
    "|description|This is the by-line / article summary that is displayed on the main page.|\n"
   ]
  },
  {
   "cell_type": "markdown",
   "metadata": {},
   "source": [
    "**ASX Dataset**\n",
    "\n",
    "The latest list of ASX companies is downloaded from the ASX's website here:\n",
    "\n",
    "<https://www2.asx.com.au/markets/trade-our-cash-market/directory>."
   ]
  },
  {
   "cell_type": "markdown",
   "metadata": {},
   "source": [
    "### High level EDA"
   ]
  },
  {
   "cell_type": "code",
   "execution_count": 65,
   "metadata": {},
   "outputs": [
    {
     "data": {
      "image/png": "[encoded data removed]",
      "text/plain": [
       "<Figure size 432x288 with 1 Axes>"
      ]
     },
     "metadata": {
      "needs_background": "light"
     },
     "output_type": "display_data"
    }
   ],
   "source": [
    "# Plot article counts by category\n",
    "summary_df = articles_df.groupby(['article_category'])['article_category'].count().to_frame()\n",
    "\n",
    "fig, ax = plt.subplots()\n",
    "x = summary_df.index\n",
    "y = summary_df['article_category']\n",
    "\n",
    "plt.bar(x, y)\n",
    "plt.title('Article Count By Category')\n",
    "plt.ylim(0,140)\n",
    "plt.xlabel(\"Article Category\")\n",
    "plt.ylabel(\"Article Count\")\n",
    "for index,data in enumerate(y):\n",
    "    plt.text(x=index -0.05 , y =data + 2, s=f\"{data}\") #, s=f\"{data}\" , fontdict=dict(fontsize=20)\n",
    "plt.show()\n"
   ]
  },
  {
   "cell_type": "markdown",
   "metadata": {},
   "source": [
    "Further EDA on corpus is performed as part of NLP Tasks in Document 3.\n",
    "\n",
    "The sample size is relatively evenly balanced between the two categories (classes). This means that further processing to rebalance classes won't be required. Balanced datasets make binary classification models less prone to overfitting."
   ]
  }
 ],
 "metadata": {
  "kernelspec": {
   "display_name": "Python 3",
   "language": "python",
   "name": "python3"
  },
  "language_info": {
   "codemirror_mode": {
    "name": "ipython",
    "version": 3
   },
   "file_extension": ".py",
   "mimetype": "text/x-python",
   "name": "python",
   "nbconvert_exporter": "python",
   "pygments_lexer": "ipython3",
   "version": "3.7.4"
  }
 },
 "nbformat": 4,
 "nbformat_minor": 2
}
