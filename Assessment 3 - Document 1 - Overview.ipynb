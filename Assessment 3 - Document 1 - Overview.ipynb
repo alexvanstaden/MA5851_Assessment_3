{
 "cells": [
  {
   "cell_type": "markdown",
   "metadata": {},
   "source": [
    "# Automated text classifier and named entity extractor\n",
    "**Renier Alexander van Staden**\n"
   ]
  },
  {
   "cell_type": "markdown",
   "metadata": {},
   "source": [
    "## Issue Overview"
   ]
  },
  {
   "cell_type": "markdown",
   "metadata": {},
   "source": [
    "The proliferation of cloud technologies and big data means that companies and invididuals have more data than every to process and understand. Fortunatly the compute power and cheap storage (among other things) hav  become more ubiqutious and almost all companies and indiviuals are connected to the internet.  \n",
    "\n",
    "One of the changes as a result of this is the movement of stock exchanges (and traders) away from traditional trading to the utilisation of \"Automated Trading Systems\". According to [Investopedia](https://www.investopedia.com/articles/trading/11/automated-trading-systems.asp) these are *\"Automated trading systems — also referred to as mechanical trading systems, algorithmic trading, automated trading or system trading — allow traders to establish specific rules for both trade entries and exits that, once programmed, can be automatically executed via a computer. \"*. Furthermore, according to [Investopedia](https://www.investopedia.com/articles/trading/11/automated-trading-systems.asp) 70% to 80% or more of all shared in the US are traded through automated trading systems. \n",
    "\n",
    "Garcia et. al. (Garcia, 2012) found in their paper *\"Information processing in the stock market around anticipated accounting information: Earnings release\"* that share prices are significanlty impacted by earnings releases and other information published about companies.\n",
    "\n",
    "The issue is that share tradings need to process large volumes of information, mostly in text format, in order to determine what trading action to take based on the content. \n",
    "\n",
    "This issue does not only affect share traders: in recent years sports betting has become very similar ot share trading in that a lot of betting decisions are made by automated systems. Sport betting have a similar issue to share trading in that large volumes of largely text data need to be processed to make betting decisions. Companies like [Betfair](https://www.betfair.com.au/hub/automated-betting-station/) have created API's for their marketplace to enable automated betting.\n",
    "\n",
    "This is can be signifant improved through the use of Natual Language processing. Natural Language Processing can be used to process large corpus of text that contain potentially price sensitive information in them. Natural Language Processing can then be extend to extract relevant entities (like companies or sports team) and determine a sentiment score for each document. Finally, this can be supplmented with metadata about companies or sports teams from their websites, or third parties (like stock exchanges). All of this can be a compnent of an automated trading system that makes buying or selling decisions and executes the. \n",
    "\n"
   ]
  },
  {
   "cell_type": "markdown",
   "metadata": {},
   "source": [
    "## Solution Overiew"
   ]
  },
  {
   "cell_type": "markdown",
   "metadata": {},
   "source": [
    "### Solution Diagram"
   ]
  },
  {
   "cell_type": "markdown",
   "metadata": {},
   "source": [
    "![Solution Overview](img\\solution_overview.png)\n",
    "\n",
    "*Figure 1: High level solution overview*"
   ]
  },
  {
   "cell_type": "markdown",
   "metadata": {},
   "source": [
    "Figure 1 shows a high level solution overview. The solution in this Assessment can be used as a component of a larger automated trading and / or betting system. This solution will focus on:\n",
    "- downloading and cleaning data from news or other information sources\n",
    "- classify information in text between \"business\" or \"sport\" \n",
    "- extract entities from text for further processing. "
   ]
  },
  {
   "cell_type": "markdown",
   "metadata": {},
   "source": [
    "### Webcrawler alignment"
   ]
  },
  {
   "cell_type": "markdown",
   "metadata": {},
   "source": [
    "The domain selected for this webcrawler is [ABC News](www.abc.net.au). This domain was selected as it is a relative reputable source of news and information for both the business and sports domains. It is likely to contain price sensitive information for both the domains of interest (business and sports). In the future this could be further supplmented with other news websites, company websites, blogs or social media (LinkedIn, Twitter).\n",
    "\n",
    "A webcrawler was built to download the intial set of articles and scrap text information from ABC News because no API is explicitly made available obtain this informantion from. \n",
    "\n",
    "[ASX](www.asx.com.au) was also used to download meta-data related to companies listed on the stock exchange. This did not require a webcrawler as data could be downloaded in csv format directly.\n",
    "\n"
   ]
  },
  {
   "cell_type": "markdown",
   "metadata": {},
   "source": [
    "### NLP alignment"
   ]
  },
  {
   "cell_type": "markdown",
   "metadata": {},
   "source": [
    "### Task 1\n",
    "\n",
    "Task 1 is to classify an article (or any other body of text containing price sensitive information) into the 'business' or 'sports' categoies. This is useful later in an automated trading system because they will have different entity categories that need to be extracted and will have different downstream components for trading.\n",
    "\n",
    "This can be acheived through NLP by extracting relevant features and training an classifier model.\n",
    "\n",
    "### Task 2\n",
    "\n",
    "Task 2 is to extract named entities from an article for further processing. This can be acheived through NLP through Named Entity Recognition, which is in turn implemented through parts of speech tagging and then through 'chunking'.\n",
    "\n",
    "An example of downstream usage will also providing by matching identified entities in business articles (classified in Task 1) to company names from the list of companies listed on the ASX (ASX meta-data). Please note that while the matching example may use NLP for the purpose of this Assessment the Named Entity Extraction is Task 2."
   ]
  },
  {
   "cell_type": "markdown",
   "metadata": {},
   "source": [
    "## References\n",
    "García, C., Herrero, B., & Ibáñez, A. (2012). Information processing in the stock market around anticipated accounting information: Earnings release. The European Journal of Finance, 18(2), 109-133. 10.1080/1351847X.2010.495473\n",
    "\n",
    "Investopedia - https://www.investopedia.com/articles/trading/11/automated-trading-systems.asp\n",
    "\n",
    "Betfair - https://www.betfair.com.au/hub/automated-betting-station/\n"
   ]
  },
  {
   "cell_type": "code",
   "execution_count": null,
   "metadata": {},
   "outputs": [],
   "source": []
  }
 ],
 "metadata": {
  "kernelspec": {
   "display_name": "Python 3",
   "language": "python",
   "name": "python3"
  },
  "language_info": {
   "codemirror_mode": {
    "name": "ipython",
    "version": 3
   },
   "file_extension": ".py",
   "mimetype": "text/x-python",
   "name": "python",
   "nbconvert_exporter": "python",
   "pygments_lexer": "ipython3",
   "version": "3.7.4"
  }
 },
 "nbformat": 4,
 "nbformat_minor": 2
}
